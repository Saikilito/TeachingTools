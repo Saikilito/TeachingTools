{
 "cells": [
  {
   "cell_type": "markdown",
   "metadata": {},
   "source": [
    "## Matplotlib\n",
    "\n",
    "las siguientes lineas permiten que Notebook pueda graficar"
   ]
  },
  {
   "cell_type": "code",
   "execution_count": 1,
   "metadata": {},
   "outputs": [],
   "source": [
    "%matplotlib inline\n",
    "import matplotlib.pyplot as plt\n",
    "plt.style.use('seaborn-poster')\n",
    "#seaborn-poster\n",
    "#whitegrid"
   ]
  },
  {
   "cell_type": "markdown",
   "metadata": {},
   "source": [
    "---\n",
    "---"
   ]
  },
  {
   "cell_type": "code",
   "execution_count": 2,
   "metadata": {},
   "outputs": [],
   "source": [
    "from sympy import *"
   ]
  },
  {
   "cell_type": "markdown",
   "metadata": {},
   "source": [
    "Declarando variables de la ecuación"
   ]
  },
  {
   "cell_type": "code",
   "execution_count": 3,
   "metadata": {},
   "outputs": [],
   "source": [
    "v = Symbol('v')\n",
    "t = Symbol('t')\n",
    "u = 2510\n",
    "Mo = 2.8*(10**6)\n",
    "c = 13.3*(10**3)\n",
    "g = (9.81)"
   ]
  },
  {
   "cell_type": "markdown",
   "metadata": {},
   "source": [
    "Definiendo la función"
   ]
  },
  {
   "cell_type": "code",
   "execution_count": 4,
   "metadata": {},
   "outputs": [
    {
     "data": {
      "text/latex": [
       "$\\displaystyle - 9.81 t + 2510 \\log{\\left(\\frac{2800000.0}{2800000.0 - 13300.0 t} \\right)} - 335$"
      ],
      "text/plain": [
       "-9.81*t + 2510*log(2800000.0/(2800000.0 - 13300.0*t)) - 335"
      ]
     },
     "execution_count": 4,
     "metadata": {},
     "output_type": "execute_result"
    }
   ],
   "source": [
    "def v(t): return (u * ln(Mo/(Mo - (c*t)))  - (g*t)) - 335\n",
    "v(t)"
   ]
  },
  {
   "cell_type": "markdown",
   "metadata": {},
   "source": [
    "Graficamos la funcion definida"
   ]
  },
  {
   "cell_type": "code",
   "execution_count": 5,
   "metadata": {},
   "outputs": [
    {
     "data": {
      "image/png": "[encoded data removed]",
      "text/plain": [
       "<Figure size 432x288 with 1 Axes>"
      ]
     },
     "metadata": {
      "needs_background": "light"
     },
     "output_type": "display_data"
    },
    {
     "data": {
      "text/plain": [
       "<sympy.plotting.plot.Plot at 0x2999c83d1d0>"
      ]
     },
     "execution_count": 5,
     "metadata": {},
     "output_type": "execute_result"
    }
   ],
   "source": [
    "plot(v(t),(t,0,80))"
   ]
  },
  {
   "cell_type": "code",
   "execution_count": 6,
   "metadata": {},
   "outputs": [
    {
     "data": {
      "image/png": "[encoded data removed]",
      "text/plain": [
       "<Figure size 432x288 with 1 Axes>"
      ]
     },
     "metadata": {
      "needs_background": "light"
     },
     "output_type": "display_data"
    },
    {
     "data": {
      "text/plain": [
       "<sympy.plotting.plot.Plot at 0x2999c177a20>"
      ]
     },
     "execution_count": 6,
     "metadata": {},
     "output_type": "execute_result"
    }
   ],
   "source": [
    "plot(v(t),(t,65,74))"
   ]
  },
  {
   "cell_type": "markdown",
   "metadata": {},
   "source": [
    "**Determinando el momento en que el cohete alcanza la velocidad del sonido (335 m/s)**\n",
    "\n",
    "----\n",
    "----\n",
    "\n",
    "### Algoritmo de bisección\n",
    "\n",
    "Algoritmo Biseccion\n",
    "```\n",
    "    Leer f, a, b, err    \n",
    "    Mientras (b - a) > err Hacer\n",
    "        c <- (a+b)/2\n",
    "        Si f(c) = 0 Entonces\n",
    "            Terminar\n",
    "        SiNo\n",
    "            Si f(a) < 335 Y f(c) < 355 \n",
    "                a <- c\n",
    "            SiNo \n",
    "                b <- c\n",
    "            Fin Si\n",
    "        Fin Si\n",
    "    Fin Mientras\n",
    "    Escribir c\n",
    "```"
   ]
  },
  {
   "cell_type": "markdown",
   "metadata": {},
   "source": [
    "## Codigo en Python"
   ]
  },
  {
   "cell_type": "code",
   "execution_count": 7,
   "metadata": {},
   "outputs": [
    {
     "data": {
      "text/latex": [
       "$\\displaystyle - 9.81 t + 2510 \\log{\\left(\\frac{2800000.0}{2800000.0 - 13300.0 t} \\right)} - 335$"
      ],
      "text/plain": [
       "-9.81*t + 2510*log(2800000.0/(2800000.0 - 13300.0*t)) - 335"
      ]
     },
     "execution_count": 7,
     "metadata": {},
     "output_type": "execute_result"
    }
   ],
   "source": [
    "a = 65\n",
    "b = 75\n",
    "err = 0.000001\n",
    "v(t)"
   ]
  },
  {
   "cell_type": "code",
   "execution_count": 8,
   "metadata": {},
   "outputs": [
    {
     "ename": "NameError",
     "evalue": "name 'biseccion' is not defined",
     "output_type": "error",
     "traceback": [
      "\u001b[1;31m---------------------------------------------------------------------------\u001b[0m",
      "\u001b[1;31mNameError\u001b[0m                                 Traceback (most recent call last)",
      "\u001b[1;32m<ipython-input-8-d2866bce0f50>\u001b[0m in \u001b[0;36m<module>\u001b[1;34m\u001b[0m\n\u001b[0;32m      1\u001b[0m \u001b[1;32mfrom\u001b[0m \u001b[0mmath\u001b[0m \u001b[1;32mimport\u001b[0m \u001b[1;33m*\u001b[0m\u001b[1;33m\u001b[0m\u001b[1;33m\u001b[0m\u001b[0m\n\u001b[1;32m----> 2\u001b[1;33m \u001b[0mrz\u001b[0m \u001b[1;33m=\u001b[0m \u001b[0mbiseccion\u001b[0m\u001b[1;33m(\u001b[0m\u001b[0mv\u001b[0m\u001b[1;33m,\u001b[0m\u001b[0ma\u001b[0m\u001b[1;33m,\u001b[0m\u001b[0mb\u001b[0m\u001b[1;33m,\u001b[0m\u001b[0merr\u001b[0m\u001b[1;33m)\u001b[0m\u001b[1;33m\u001b[0m\u001b[1;33m\u001b[0m\u001b[0m\n\u001b[0m\u001b[0;32m      3\u001b[0m \u001b[0mrz\u001b[0m\u001b[1;33m\u001b[0m\u001b[1;33m\u001b[0m\u001b[0m\n",
      "\u001b[1;31mNameError\u001b[0m: name 'biseccion' is not defined"
     ]
    }
   ],
   "source": [
    "from math import *\n",
    "rz = biseccion(v,a,b,err)\n",
    "rz"
   ]
  },
  {
   "cell_type": "code",
   "execution_count": null,
   "metadata": {},
   "outputs": [],
   "source": [
    "v(rz)"
   ]
  },
  {
   "cell_type": "markdown",
   "metadata": {},
   "source": [
    "### Algoritmo Punto fijo\n",
    "\n",
    "```\n",
    "Leer g, x, err\n",
    "Mientras |g(x) - x| > err\n",
    "    x <- g(x)\n",
    "Fin Mientras\n",
    "Escribir x\n",
    "```\n",
    "\n",
    "Sea `v(t) = g(t) - t`\n",
    "\n",
    "Si `0 = u * ln(Mo/(Mo-c*t)) - g*t`\n",
    "\n",
    "luego `t = (u * ln(Mo/(Mo-c*t))/g`\n",
    "\n",
    "Entonces `g(t) = (u * ln(Mo/(Mo-c*t)))/g`\n",
    "`\n",
    "\n",
    "Sabemos que hay una raiz cerca por la izquierda de t = 71, por lo que tomaremos to=70 como punto inicial"
   ]
  }
 ],
 "metadata": {
  "kernelspec": {
   "display_name": "Python 3",
   "language": "python",
   "name": "python3"
  },
  "language_info": {
   "codemirror_mode": {
    "name": "ipython",
    "version": 3
   },
   "file_extension": ".py",
   "mimetype": "text/x-python",
   "name": "python",
   "nbconvert_exporter": "python",
   "pygments_lexer": "ipython3",
   "version": "3.7.3"
  }
 },
 "nbformat": 4,
 "nbformat_minor": 2
}
