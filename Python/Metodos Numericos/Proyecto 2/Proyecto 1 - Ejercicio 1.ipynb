{
 "cells": [
  {
   "cell_type": "code",
   "execution_count": 3,
   "metadata": {},
   "outputs": [],
   "source": [
    "import numpy as np\n",
    "from math import sqrt"
   ]
  },
  {
   "cell_type": "code",
   "execution_count": 13,
   "metadata": {},
   "outputs": [],
   "source": [
    "sen45 = sqrt(2)/2\n",
    "nodos = np.array([\n",
    "    [sen45, 1, 0, 0, 0, 0, 0, 0, 0, 0],\n",
    "    [sen45, 0, 0, 0, 0, 0, 0, 0, 0, -25],\n",
    "    [-sen45, 0, 0, 1, sen45, 0, 0, 0, 0, 0],\n",
    "    [sen45, 0, 0, 0, sen45, 0, 0, 0, 0, -20],\n",
    "    [0, -1, 0, 0, 0, 1, 0, 0, 0, 0],\n",
    "    [0, 0, 1, 0, 0, 0, 0, 0, 0, 5],\n",
    "    [0, 0, 0, -1, 0, 0, sen45, 0, 0, 0],\n",
    "    [0, 0, 0, 0, 0, 0, sen45, 1, 0, -25],\n",
    "    [0, 0, 0, 0, -sen45, -1, 0, 0, 1, 0],\n",
    "    [0, 0, 0, 0, -sen45, 0, 0, 1, 0, 10],\n",
    "    [0, 0, 0, 0, 0, 0, sen45, 0, 1, 0],\n",
    "    [0, 0, 0, 0, 0, 0, sen45, 0, 0, -25]\n",
    "])"
   ]
  },
  {
   "cell_type": "markdown",
   "metadata": {},
   "source": [
    "Insertamos la funcion que traduce a PA=LU"
   ]
  },
  {
   "cell_type": "code",
   "execution_count": 17,
   "metadata": {},
   "outputs": [],
   "source": [
    "def PALU(A):\n",
    "    cA = np.array(A)\n",
    "    dimensions = np.shape(A)\n",
    "\n",
    "    if(dimensions[0] != dimensions[1]):\n",
    "        return print(\"La Matriz ingresada no es cuadrada\")\n",
    "\n",
    "    L = np.eye(dimensions[0])\n",
    "    U = np.eye(dimensions[0])\n",
    "    print(\"Matriz Original \\n\" + str(cA))\n",
    "    for j in range(0,dimensions[0]):\n",
    "        for i in range(j+1,dimensions[0]):\n",
    "            L[i,j] = cA[i,j]/cA[j,j]\n",
    "            print(\"L: \\n\" + str(L))\n",
    "            cA[i,0:] = cA[i,0:] - (L[i,j] * cA[j,0:])\n",
    "            print(\"A: \\n\" + str(cA))\n",
    "    \n",
    "    if(L*U == A):\n",
    "        print(\"Resultado correcto\")            "
   ]
  },
  {
   "cell_type": "code",
   "execution_count": 18,
   "metadata": {},
   "outputs": [
    {
     "name": "stdout",
     "output_type": "stream",
     "text": [
      "La Matriz ingresada no es cuadrada\n"
     ]
    }
   ],
   "source": [
    "PALU(nodos)"
   ]
  }
 ],
 "metadata": {
  "kernelspec": {
   "display_name": "Python 3",
   "language": "python",
   "name": "python3"
  },
  "language_info": {
   "codemirror_mode": {
    "name": "ipython",
    "version": 3
   },
   "file_extension": ".py",
   "mimetype": "text/x-python",
   "name": "python",
   "nbconvert_exporter": "python",
   "pygments_lexer": "ipython3",
   "version": "3.7.4"
  }
 },
 "nbformat": 4,
 "nbformat_minor": 2
}
