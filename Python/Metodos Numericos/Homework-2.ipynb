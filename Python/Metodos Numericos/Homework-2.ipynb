{
 "cells": [
  {
   "cell_type": "markdown",
   "metadata": {},
   "source": [
    "# Tarea 2\n",
    "\n",
    "## Ejercicio\n",
    "\n",
    "Documentar el código de función mostrada en el video 1 de CN, según corresponda a su elección de la herramienta de trabajo Octave o Python.\n",
    "\n",
    "Escribir el código comentado por usted, comparar: con el algoritmo realizado que corresponde a la Tarea 1, la forma de atacar el problema por mi parte y determina la eficiencia de la codificación presentada."
   ]
  },
  {
   "cell_type": "markdown",
   "metadata": {},
   "source": [
    "## Código de Gilberto Noguera"
   ]
  },
  {
   "cell_type": "code",
   "execution_count": 55,
   "metadata": {},
   "outputs": [],
   "source": [
    "def triangSupMat(A):\n",
    "    import numpy as np\n",
    "    (n,m) = A.shape\n",
    "    \n",
    "    if m != n :\n",
    "        print('La matriz no es cuadrada')\n",
    "        return\n",
    "    \n",
    "    B = np.copy(A)\n",
    "    \n",
    "    for j in range(0,n-1):\n",
    "        k =  np.argmax(np.abs(B[j:n,j]))\n",
    "        k = k + j\n",
    "        faux = np.copy(B[j,:])\n",
    "        B[j,:] = np.copy(B[k,:])\n",
    "        B[k,:] = np.copy(faux)\n",
    "        \n",
    "        for i in range(j+1,n):\n",
    "            mu = B[i,j]/B[j,j]\n",
    "            B[i,:] = B[i,:]-(mu*B[j,:])\n",
    "        \n",
    "    return(B)  "
   ]
  },
  {
   "cell_type": "code",
   "execution_count": 1,
   "metadata": {},
   "outputs": [],
   "source": [
    "import numpy as np"
   ]
  },
  {
   "cell_type": "code",
   "execution_count": 58,
   "metadata": {},
   "outputs": [
    {
     "data": {
      "text/plain": [
       "array([[3.        , 2.        , 1.        ],\n",
       "       [0.        , 4.33333333, 1.66666667],\n",
       "       [0.        , 0.        , 6.        ]])"
      ]
     },
     "execution_count": 58,
     "metadata": {},
     "output_type": "execute_result"
    }
   ],
   "source": [
    "A = np.array(np.mat('-2 3 7; 1 5 2; 3 2 1', float))\n",
    "\n",
    "triangSupMat(A)"
   ]
  },
  {
   "cell_type": "markdown",
   "metadata": {},
   "source": [
    "## Explicación del método\n",
    "\n",
    "### Eliminación gaussiana con pivoteo parcial\n",
    "\n",
    "Esta técnica se desarrolla para combatir los errores de truncamiento por ceros en la diagonal o los errores de redondeo por números cercanos a cero es la técnica de pivoteo parcial.\n",
    "\n",
    "El proceso como tal es idéntico a eliminación gaussiana simple solo que antes de calcular los multiplicadores se realiza el pivoteo si es necesario. Al realizar el pivoteo se obtienen valores lo más pequeños posibles para los multiplicadores reduciendo así el error de redondeo.\n",
    "\n",
    "Para realizar este método se tiene el siguiente procedimiento:\n",
    "\n",
    "* Se debe construir la matriz de coeficientes aumentada\n",
    "\n",
    "* Se busca el número mayor (en valor absoluto) en cada la columna correspondiente a la etapa y se procede a un cambio de filas para ubicar el mayor elegido en la posición correspondiente a la etapa.\n",
    "\n",
    "* Una vez ubicado el número mayor, se procede al cálculo de los multiplicadores correspondientes a la etapa.\n",
    "\n",
    "* Con los multiplicadores hallados en cada etapa, se procede al cálculo de las nuevas filas de la matriz aumentada.\n"
   ]
  },
  {
   "cell_type": "markdown",
   "metadata": {},
   "source": [
    "## Documentado el código"
   ]
  },
  {
   "cell_type": "markdown",
   "metadata": {},
   "source": [
    "* Al iniciar se define una función para ejecutar el código que crea la matriz triangular superior\n",
    "\n",
    "* Lo primero que se hace es importan la librería numpy la cual es una librería de Python muy poderosa para trabajar cálculos con matrices\n",
    "\n",
    "* Seguidamente se hace una destruccturación de las filas y columnas de la Matriz A en las variables n y m respectivamente"
   ]
  },
  {
   "cell_type": "code",
   "execution_count": 14,
   "metadata": {},
   "outputs": [],
   "source": [
    "def triangSupMat(A):\n",
    "    import numpy as np\n",
    "    (n,m) = A.shape"
   ]
  },
  {
   "cell_type": "markdown",
   "metadata": {},
   "source": [
    "* Se reserva la funcionalidad para trabajar solo con matrices cuadradas"
   ]
  },
  {
   "cell_type": "code",
   "execution_count": null,
   "metadata": {},
   "outputs": [],
   "source": [
    " if m != n :\n",
    "    print('La matriz no es cuadrada')\n",
    "    return"
   ]
  },
  {
   "cell_type": "markdown",
   "metadata": {},
   "source": [
    "* Se copia la matriz A en la matriz B"
   ]
  },
  {
   "cell_type": "code",
   "execution_count": null,
   "metadata": {},
   "outputs": [],
   "source": [
    "    B = np.copy(A)"
   ]
  },
  {
   "cell_type": "markdown",
   "metadata": {},
   "source": [
    "* Se crea un ciclo ```for``` que contempla el pivoteo parcial\n",
    "\n",
    "* La función argmax devuelve el índice del mayor número, en este caso, en la columna\n",
    "\n",
    "* k siempre obtendrá un valor relativo a la posición de la fila con el mayor coeficiente, su posición inicia desde el punto donde es llamado, es por esto que es necesario agregarle j para ubicarla en la posición correcta al llamar el elemento de la matriz\n",
    "\n",
    "* Se intercambian la fila pivote con la fila de mayor coeficiente\n",
    "\n",
    "* Se ingresa un segundo ciclo ```for``` donde se hace el proceso para la eliminación gaussiana\n",
    "\n",
    "* Por último se devuelve la Matriz ya trabajada"
   ]
  },
  {
   "cell_type": "code",
   "execution_count": null,
   "metadata": {},
   "outputs": [],
   "source": [
    " for j in range(0,n-1):\n",
    "        k =  np.argmax(np.abs(B[j:n,j]))\n",
    "        k = k + j\n",
    "        faux = np.copy(B[j,:])\n",
    "        B[j,:] = np.copy(B[k,:])\n",
    "        B[k,:] = np.copy(faux)\n",
    "        \n",
    "        for i in range(j+1,n):\n",
    "            mu = B[i,j]/B[j,j]\n",
    "            B[i,:] = B[i,:]-(mu*B[j,:])\n",
    "        \n",
    "    return(B)  "
   ]
  },
  {
   "cell_type": "markdown",
   "metadata": {},
   "source": [
    "## Comparación:\n",
    "\n",
    "* Los beneficios del uso del método de pivoteo parcial proporciona cuantiosos beneficios que se pueden apreciar al leer la teoría detrás del mismo.\n",
    "\n",
    "* El código escrito en Python refleja una clara ventaja sobre el pseudocódigo al permitir el manejo de múltiples elementos ya sea seleccionando todo una fila o todo una columna.\n",
    "\n",
    "* En este código se usan métodos como el argmax o copy quiénes pueden ahorran gran cantidad de tiempo, líneas de código y aumenta la legibilidad del proyecto, esto hace mucho más eficiente este programa.\n",
    "\n",
    "* El código expreso en la \"Tarea 1\" está configurado para que la matriz sea trabaja como un sistema de ecuaciones por lo que la diagonal principal, siempre que puede, queda con coeficientes 1"
   ]
  }
 ],
 "metadata": {
  "kernelspec": {
   "display_name": "Python 3",
   "language": "python",
   "name": "python3"
  },
  "language_info": {
   "codemirror_mode": {
    "name": "ipython",
    "version": 3
   },
   "file_extension": ".py",
   "mimetype": "text/x-python",
   "name": "python",
   "nbconvert_exporter": "python",
   "pygments_lexer": "ipython3",
   "version": "3.7.3"
  }
 },
 "nbformat": 4,
 "nbformat_minor": 2
}
