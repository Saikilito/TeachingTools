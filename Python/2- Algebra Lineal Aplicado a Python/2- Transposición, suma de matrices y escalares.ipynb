{
 "cells": [
  {
   "cell_type": "code",
   "execution_count": 1,
   "metadata": {},
   "outputs": [],
   "source": [
    "import numpy as np"
   ]
  },
  {
   "cell_type": "code",
   "execution_count": 2,
   "metadata": {},
   "outputs": [],
   "source": [
    "escalar = 5\n",
    "vector = np.array([3,4,5])\n",
    "matriz = np.array([[1,2],[3,4],[5,6]])\n",
    "tensor = np.array([\n",
    "    [[1,2,3,30],[4,5,6,31],[7,8,9,32]],\n",
    "    [[11,12,13,33],[14,15,16,34],[17,18,19,35]],\n",
    "    [[21,22,23,36],[24,25,26,37],[7,8,9,38]],\n",
    "])"
   ]
  },
  {
   "cell_type": "markdown",
   "metadata": {},
   "source": [
    "# Transposición\n",
    "\n",
    "En matemática una transposición es el cambio, en una matriz, de filar por columnas.\n",
    "\n",
    "En Python podemos calcular la transpuesta de un elemento usando el metodo ```.T```"
   ]
  },
  {
   "cell_type": "code",
   "execution_count": 3,
   "metadata": {},
   "outputs": [
    {
     "name": "stdout",
     "output_type": "stream",
     "text": [
      "[[1 2]\n",
      " [3 4]\n",
      " [5 6]] \n",
      "\n",
      "Dimension (3, 2)\n"
     ]
    }
   ],
   "source": [
    "print(matriz,'\\n')\n",
    "print('Dimension', matriz.shape)"
   ]
  },
  {
   "cell_type": "code",
   "execution_count": 4,
   "metadata": {},
   "outputs": [
    {
     "name": "stdout",
     "output_type": "stream",
     "text": [
      "[[1 3 5]\n",
      " [2 4 6]] \n",
      "\n",
      "Dimension (2, 3)\n"
     ]
    }
   ],
   "source": [
    "matriz_transpuesta = matriz.T\n",
    "print(matriz_transpuesta,'\\n')\n",
    "print('Dimension', matriz_transpuesta.shape)"
   ]
  },
  {
   "cell_type": "markdown",
   "metadata": {},
   "source": [
    "Podemos hacer la misma operción cuando hablamos de tensores, por ejemplo"
   ]
  },
  {
   "cell_type": "code",
   "execution_count": 5,
   "metadata": {},
   "outputs": [
    {
     "name": "stdout",
     "output_type": "stream",
     "text": [
      "[[[ 1  2  3 30]\n",
      "  [ 4  5  6 31]\n",
      "  [ 7  8  9 32]]\n",
      "\n",
      " [[11 12 13 33]\n",
      "  [14 15 16 34]\n",
      "  [17 18 19 35]]\n",
      "\n",
      " [[21 22 23 36]\n",
      "  [24 25 26 37]\n",
      "  [ 7  8  9 38]]] \n",
      "\n",
      "Dimension (3, 3, 4)\n"
     ]
    }
   ],
   "source": [
    "print(tensor,'\\n')\n",
    "print('Dimension', tensor.shape)"
   ]
  },
  {
   "cell_type": "code",
   "execution_count": 6,
   "metadata": {},
   "outputs": [
    {
     "name": "stdout",
     "output_type": "stream",
     "text": [
      "[[[ 1 11 21]\n",
      "  [ 4 14 24]\n",
      "  [ 7 17  7]]\n",
      "\n",
      " [[ 2 12 22]\n",
      "  [ 5 15 25]\n",
      "  [ 8 18  8]]\n",
      "\n",
      " [[ 3 13 23]\n",
      "  [ 6 16 26]\n",
      "  [ 9 19  9]]\n",
      "\n",
      " [[30 33 36]\n",
      "  [31 34 37]\n",
      "  [32 35 38]]] \n",
      "\n",
      "Dimension (4, 3, 3)\n"
     ]
    }
   ],
   "source": [
    "tensor_transpuesto = tensor.T\n",
    "print(tensor_transpuesto,'\\n')\n",
    "print('Dimension', tensor_transpuesto.shape)"
   ]
  },
  {
   "cell_type": "markdown",
   "metadata": {},
   "source": [
    "### ¿Por qué es importante conocer la transpuesta de una matriz?\n",
    "\n",
    "Una propiedad de las matrices es que la transpuesta de una transpuesta da como resulta la matris original.\n",
    "\n",
    "Sea $\\vec{A}$ una matriz de orden $nxn$ y $\\vec{A}^\\intercal$ su matriz transpuestas, entonces:\n",
    "\n",
    "$$(\\vec{A}^\\intercal)^\\intercal = \\vec{A}$$"
   ]
  },
  {
   "cell_type": "code",
   "execution_count": 7,
   "metadata": {},
   "outputs": [
    {
     "name": "stdout",
     "output_type": "stream",
     "text": [
      "[[1 2]\n",
      " [3 4]\n",
      " [5 6]] \n",
      "\n",
      "[[ True  True]\n",
      " [ True  True]\n",
      " [ True  True]]\n"
     ]
    }
   ],
   "source": [
    "matriz_original = matriz_transpuesta.T\n",
    "print(matriz_original,'\\n')\n",
    "print(matriz == matriz_original)"
   ]
  },
  {
   "cell_type": "markdown",
   "metadata": {},
   "source": [
    "Cuando trabajamos con estructuras matriciales este tipo de operaciones son útiles para poder trabajar los despejes en ecuaciones y así obtener datos de forma analítica."
   ]
  },
  {
   "cell_type": "markdown",
   "metadata": {},
   "source": [
    "### Propiedades de la transposición\n",
    "\n",
    "Si $\\vec{A}$ , $\\vec{B}$ son matrices y $\\alpha$ es un escalar, entonces\n",
    "\n",
    "(I) $(\\vec{A}^\\intercal)^\\intercal = \\vec{A}$\n",
    "<br>\n",
    "(II) $ (\\alpha \\vec{A})^\\intercal = \\alpha \\vec{A}^\\intercal  $\n",
    "<br>\n",
    "(III) $ (\\vec{A} + \\vec{B})^\\intercal = \\vec{A}^\\intercal + \\vec{B}^\\intercal$\n",
    "<br>\n",
    "(IV) $ (\\vec{A} \\vec{B})^\\intercal = \\vec{B}^\\intercal \\vec{A}^\\intercal$"
   ]
  },
  {
   "cell_type": "markdown",
   "metadata": {},
   "source": [
    "# Suma de matrices\n",
    "\n",
    "La suma de matrices, solamente esta definida para matrices de iguales dimensiones."
   ]
  },
  {
   "cell_type": "code",
   "execution_count": 8,
   "metadata": {},
   "outputs": [
    {
     "name": "stdout",
     "output_type": "stream",
     "text": [
      "A =\n",
      " [[1 2]\n",
      " [3 4]\n",
      " [5 6]] \n",
      "B=\n",
      " [[6 5]\n",
      " [4 3]\n",
      " [2 1]] \n",
      "C=\n",
      " [[7 7]\n",
      " [7 7]\n",
      " [7 7]]\n"
     ]
    }
   ],
   "source": [
    "A = np.array([[1,2],[3,4],[5,6]])\n",
    "B = np.array([[6,5],[4,3],[2,1]])\n",
    "C = A + B\n",
    "\n",
    "print('A =\\n',A,'\\nB=\\n',B,'\\nC=\\n',C)"
   ]
  },
  {
   "cell_type": "markdown",
   "metadata": {},
   "source": [
    "## Matriz más un escalar\n",
    "\n",
    "Suma a cada elemento de la matriz el valor del escalar"
   ]
  },
  {
   "cell_type": "code",
   "execution_count": 9,
   "metadata": {},
   "outputs": [
    {
     "name": "stdout",
     "output_type": "stream",
     "text": [
      "[[ 6  7]\n",
      " [ 8  9]\n",
      " [10 11]]\n"
     ]
    }
   ],
   "source": [
    "D = A + escalar\n",
    "print(D)"
   ]
  },
  {
   "cell_type": "markdown",
   "metadata": {},
   "source": [
    "## Sumar matrices con diferentes dimensiones en Python\n",
    "\n",
    "Anteriormente se dijo que la suma de matrices solo esta definida para matrices que tienen las mismas dimensiones.\n",
    "<br>\n",
    "Pero en Python podemos realizar dichas sumas si se cumplen las condiciones para un **broadcasting**\n",
    "\n",
    "### Broadcasting\n",
    "Es cuando es posible extender un elemento de menor dimesión hasta completar uno de mayor dimensión.\n",
    "\n",
    "Por ejemplo:"
   ]
  },
  {
   "cell_type": "code",
   "execution_count": 10,
   "metadata": {},
   "outputs": [
    {
     "name": "stdout",
     "output_type": "stream",
     "text": [
      "[[ 4  7 10]\n",
      " [ 5  8 11]]\n",
      "\n",
      " (2, 3) (3,)\n"
     ]
    }
   ],
   "source": [
    "M_V = matriz_transpuesta + vector\n",
    "print(M_V,)\n",
    "print('\\n',matriz_transpuesta.shape, vector.shape)"
   ]
  },
  {
   "cell_type": "markdown",
   "metadata": {},
   "source": [
    "Lo que sucede aqui es que al ser $\\vec{A}^\\intercal$ una matriz de orden $2x3$ y el vector ser de orden $3$ python suma el vector en todas las filas de la matriz. Similar a la suma de matrices con escalares."
   ]
  }
 ],
 "metadata": {
  "kernelspec": {
   "display_name": "Python 3",
   "language": "python",
   "name": "python3"
  },
  "language_info": {
   "codemirror_mode": {
    "name": "ipython",
    "version": 3
   },
   "file_extension": ".py",
   "mimetype": "text/x-python",
   "name": "python",
   "nbconvert_exporter": "python",
   "pygments_lexer": "ipython3",
   "version": "3.7.3"
  }
 },
 "nbformat": 4,
 "nbformat_minor": 2
}
