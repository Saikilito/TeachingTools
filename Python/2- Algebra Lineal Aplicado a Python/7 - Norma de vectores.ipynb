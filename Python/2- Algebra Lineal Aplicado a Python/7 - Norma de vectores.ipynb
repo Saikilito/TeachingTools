{
 "cells": [
  {
   "cell_type": "code",
   "execution_count": 1,
   "metadata": {},
   "outputs": [],
   "source": [
    "%matplotlib inline\n",
    "import numpy as np\n",
    "import matplotlib.pyplot as plt\n",
    "## Para usar una paleta de colores\n",
    "import seaborn as sns"
   ]
  },
  {
   "cell_type": "markdown",
   "metadata": {},
   "source": [
    "# Norma de vectores\n",
    "\n",
    "Asocia un número positivo a un vector, este número representará lamagnitud o tamaño de un vector."
   ]
  },
  {
   "cell_type": "code",
   "execution_count": 2,
   "metadata": {},
   "outputs": [],
   "source": [
    "v1 = np.array([2,7])\n",
    "v2 = np.array([3,5])"
   ]
  },
  {
   "cell_type": "code",
   "execution_count": 3,
   "metadata": {},
   "outputs": [
    {
     "name": "stdout",
     "output_type": "stream",
     "text": [
      "v1 = [2 7]\n",
      "v2 = [3 5]\n"
     ]
    }
   ],
   "source": [
    "print('v1 =', v1)\n",
    "print('v2 =',v2)"
   ]
  },
  {
   "cell_type": "code",
   "execution_count": 4,
   "metadata": {},
   "outputs": [
    {
     "name": "stdout",
     "output_type": "stream",
     "text": [
      "v1v2 =  [ 5 12]\n"
     ]
    }
   ],
   "source": [
    "v1v2 = v1+v2\n",
    "print('v1v2 = ',v1v2)"
   ]
  },
  {
   "cell_type": "code",
   "execution_count": 5,
   "metadata": {
    "scrolled": true
   },
   "outputs": [
    {
     "data": {
      "text/plain": [
       "13.0"
      ]
     },
     "execution_count": 5,
     "metadata": {},
     "output_type": "execute_result"
    }
   ],
   "source": [
    "np.linalg.norm(v1v2)"
   ]
  },
  {
   "cell_type": "markdown",
   "metadata": {},
   "source": [
    "**Comprobemos la desigualdad triangulas**\n",
    "\n",
    "La cual nos dice que $norma(v1v2) <= norma(v1) + norma(2)$."
   ]
  },
  {
   "cell_type": "code",
   "execution_count": 6,
   "metadata": {},
   "outputs": [
    {
     "name": "stdout",
     "output_type": "stream",
     "text": [
      "True\n"
     ]
    }
   ],
   "source": [
    "print(np.linalg.norm(v1v2) <= np.linalg.norm(v1) + np.linalg.norm(v2))"
   ]
  },
  {
   "cell_type": "code",
   "execution_count": 7,
   "metadata": {},
   "outputs": [
    {
     "name": "stdout",
     "output_type": "stream",
     "text": [
      "0\n"
     ]
    }
   ],
   "source": [
    "v1 = np.array([0,0,2,7])\n",
    "v2 = np.array([0,0,3,5])\n",
    "\n",
    "v1_aux = np.array([v1[2],v1[3],v2[2],v2[3]])\n",
    "v1v2 = np.array([0,0,5,12])\n",
    "\n",
    "print(v1[1])"
   ]
  },
  {
   "cell_type": "code",
   "execution_count": 8,
   "metadata": {
    "scrolled": true
   },
   "outputs": [
    {
     "data": {
      "image/png": "[encoded data removed]",
      "text/plain": [
       "<Figure size 432x288 with 1 Axes>"
      ]
     },
     "metadata": {
      "needs_background": "light"
     },
     "output_type": "display_data"
    }
   ],
   "source": [
    "plt.quiver([v1[0],v1_aux[0],v1v2[0]],\n",
    "           [v1[1],v1_aux[1],v1v2[1]],\n",
    "           [v1[2],v1_aux[2],v1v2[2]],\n",
    "           [v1[3],v1_aux[3],v1v2[3]],\n",
    "            angles='xy', scale_units='xy',\n",
    "           scale=1, color = sns.color_palette()\n",
    "          )\n",
    "plt.xlim(-0.5,6)\n",
    "plt.ylim(-0.5,15)\n",
    "plt.show()"
   ]
  },
  {
   "cell_type": "markdown",
   "metadata": {},
   "source": [
    "## Tipos de Normas\n",
    "\n",
    "A las normas la estaremos llamando por $L$\n",
    "\n",
    "$L_0$: Devuelve la cantidad de elementos del vector distintos de ceros \n",
    "<br>\n",
    "$L_1$: Devuelve la suma de los valores absolutos de nlos componentes de nuestro vector\n",
    "<br>\n",
    "$L_2$:Distancia\n",
    "<br>\n",
    "$L_\\infty$: Devuelve el mayor valor dentro de los valores absolutos de nuestro vector\n",
    "<br>"
   ]
  },
  {
   "cell_type": "code",
   "execution_count": 9,
   "metadata": {},
   "outputs": [
    {
     "name": "stdout",
     "output_type": "stream",
     "text": [
      "4.0\n"
     ]
    }
   ],
   "source": [
    "v= np.array([1,2,0,5,6,0])\n",
    "L_0 = np.linalg.norm(v, ord=0)\n",
    "print(L_0)"
   ]
  },
  {
   "cell_type": "code",
   "execution_count": 10,
   "metadata": {},
   "outputs": [
    {
     "name": "stdout",
     "output_type": "stream",
     "text": [
      "6.0\n"
     ]
    }
   ],
   "source": [
    "v= np.array([1,-1,1,-1,1,-1])\n",
    "L_1 = np.linalg.norm(v, ord=1)\n",
    "print(L_1)"
   ]
  },
  {
   "cell_type": "code",
   "execution_count": 11,
   "metadata": {},
   "outputs": [
    {
     "data": {
      "image/png": "[encoded data removed]",
      "text/plain": [
       "<Figure size 432x288 with 1 Axes>"
      ]
     },
     "metadata": {
      "needs_background": "light"
     },
     "output_type": "display_data"
    }
   ],
   "source": [
    "v= np.array([1,1])\n",
    "x = np.arange(-1,3)\n",
    "\n",
    "plt.figure()\n",
    "plt.axvline(x=0, color=\"gray\", zorder=0)\n",
    "plt.axhline(y=0, color=\"gray\", zorder=0)\n",
    "plt.axvline(x=v[0], color=\"b\", zorder=0)\n",
    "plt.axhline(y=v[1], color=\"b\", zorder=0)\n",
    "\n",
    "plt.xlim(-0.1,1.5)\n",
    "plt.ylim(-0.1,1.5)\n",
    "\n",
    "plt.quiver(0,0,v[0],v[1] ,angles='xy',scale_units='xy',scale=1,color='g')\n",
    "plt.show()\n"
   ]
  },
  {
   "cell_type": "markdown",
   "metadata": {},
   "source": [
    "La distancia de del vector $\\vec{v}$ calculada teoricamente responde a \n",
    "$$ d = \\sqrt{1^2 + 1^2} = \\sqrt{2} \\approx 1.1442 $$\n",
    "\n",
    "Ahora probemos con numpy"
   ]
  },
  {
   "cell_type": "code",
   "execution_count": 13,
   "metadata": {},
   "outputs": [
    {
     "name": "stdout",
     "output_type": "stream",
     "text": [
      "1.4142135623730951\n",
      "1.4142135623730951\n"
     ]
    }
   ],
   "source": [
    "print(np.linalg.norm(v))\n",
    "print(np.linalg.norm(v,ord=2))"
   ]
  },
  {
   "cell_type": "markdown",
   "metadata": {},
   "source": [
    "Como podemos apreciar, la norma por defecto que devulve numpy es la $L_2$\n",
    "\n",
    "**Ahora probamos con la norma** $(L_2)^2$"
   ]
  },
  {
   "cell_type": "code",
   "execution_count": 14,
   "metadata": {
    "scrolled": true
   },
   "outputs": [
    {
     "name": "stdout",
     "output_type": "stream",
     "text": [
      "[1 2 3 4 5 6]\n"
     ]
    }
   ],
   "source": [
    "v = np.array([1,2,3,4,5,6])\n",
    "print(v)"
   ]
  },
  {
   "cell_type": "code",
   "execution_count": 15,
   "metadata": {},
   "outputs": [
    {
     "name": "stdout",
     "output_type": "stream",
     "text": [
      "91.0\n"
     ]
    }
   ],
   "source": [
    "print(np.linalg.norm(v)**2)"
   ]
  },
  {
   "cell_type": "code",
   "execution_count": 17,
   "metadata": {},
   "outputs": [
    {
     "name": "stdout",
     "output_type": "stream",
     "text": [
      "91\n"
     ]
    }
   ],
   "source": [
    "L_2 = v.dot(v)\n",
    "print(L_2)"
   ]
  },
  {
   "cell_type": "code",
   "execution_count": 19,
   "metadata": {},
   "outputs": [
    {
     "name": "stdout",
     "output_type": "stream",
     "text": [
      "100.0\n"
     ]
    }
   ],
   "source": [
    "v = np.array([1,2,3,-100])\n",
    "L_inf = np.linalg.norm(v,ord=np.inf)\n",
    "print(L_inf)"
   ]
  },
  {
   "cell_type": "markdown",
   "metadata": {},
   "source": [
    "## Producto como función de una norma\n",
    "### Producto interno"
   ]
  },
  {
   "cell_type": "code",
   "execution_count": 37,
   "metadata": {},
   "outputs": [],
   "source": [
    "v1 = np.array([0,3])\n",
    "v2 = np.array([3,3])"
   ]
  },
  {
   "cell_type": "code",
   "execution_count": 39,
   "metadata": {},
   "outputs": [
    {
     "data": {
      "image/png": "[encoded data removed]",
      "text/plain": [
       "<Figure size 432x288 with 1 Axes>"
      ]
     },
     "metadata": {
      "needs_background": "light"
     },
     "output_type": "display_data"
    }
   ],
   "source": [
    "plt.quiver(0,0,v1,v2,\n",
    "          scale=1,\n",
    "          scale_units='xy',\n",
    "          angles='xy',\n",
    "          color = sns.color_palette())\n",
    "\n",
    "plt.xlim(-0.1,4)\n",
    "plt.ylim(-0.1,4)\n",
    "plt.show()"
   ]
  },
  {
   "cell_type": "code",
   "execution_count": 40,
   "metadata": {},
   "outputs": [
    {
     "name": "stdout",
     "output_type": "stream",
     "text": [
      "9\n"
     ]
    }
   ],
   "source": [
    "print(v1.T.dot(v2))"
   ]
  },
  {
   "cell_type": "markdown",
   "metadata": {},
   "source": [
    "Es de la misma forma que \n",
    "$$v_1 \\bullet v_2 = |v_1||v_2|cos(\\alpha)$$"
   ]
  },
  {
   "cell_type": "code",
   "execution_count": 47,
   "metadata": {},
   "outputs": [
    {
     "name": "stdout",
     "output_type": "stream",
     "text": [
      "9.0\n"
     ]
    }
   ],
   "source": [
    "L2_v1 = np.linalg.norm(v1)\n",
    "L2_v2 = np.linalg.norm(v2)\n",
    "## Los valores de la función coceno necesita valores en radianes\n",
    "## En estos momentos los tenemos en grados\n",
    "norm = L2_v1 * L2_v2 * np.cos(np.deg2rad(45))\n",
    "print(norm)"
   ]
  }
 ],
 "metadata": {
  "kernelspec": {
   "display_name": "Python 3",
   "language": "python",
   "name": "python3"
  },
  "language_info": {
   "codemirror_mode": {
    "name": "ipython",
    "version": 3
   },
   "file_extension": ".py",
   "mimetype": "text/x-python",
   "name": "python",
   "nbconvert_exporter": "python",
   "pygments_lexer": "ipython3",
   "version": "3.7.3"
  }
 },
 "nbformat": 4,
 "nbformat_minor": 2
}
