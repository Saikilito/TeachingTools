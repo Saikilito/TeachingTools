{
 "cells": [
  {
   "cell_type": "markdown",
   "metadata": {},
   "source": [
    "# Producto de matrices"
   ]
  },
  {
   "cell_type": "code",
   "execution_count": 1,
   "metadata": {},
   "outputs": [],
   "source": [
    "import numpy as np\n"
   ]
  },
  {
   "cell_type": "code",
   "execution_count": 2,
   "metadata": {},
   "outputs": [],
   "source": [
    "escalar = 5.679\n",
    "vector = np.array([2,3])\n",
    "matriz = np.array([[1,2],[3,4],[5,6]])"
   ]
  },
  {
   "cell_type": "markdown",
   "metadata": {},
   "source": [
    "Dada dos matrices $\\vec{A} \\in M_{mxn}$ y $\\vec{B} \\in M_{nxp}$ se define el **Producto de matrices** como $\\vec{AB} \\in M_{mxp}$ tal que:\n",
    "$$(\\vec{AB})_{ij} = \\sum_{k=1}^n a_{ik} b_{kj}$$\n",
    "\n",
    "**OJO: _El producto de matrices no es conmutativo_**"
   ]
  },
  {
   "cell_type": "markdown",
   "metadata": {},
   "source": [
    "En Python al multiplicar una matriz por un vector nos devuelve una matriz con las mismas dimensiones de la matriz original"
   ]
  },
  {
   "cell_type": "code",
   "execution_count": 3,
   "metadata": {
    "scrolled": false
   },
   "outputs": [
    {
     "name": "stdout",
     "output_type": "stream",
     "text": [
      "[[ 2  6]\n",
      " [ 6 12]\n",
      " [10 18]]\n"
     ]
    }
   ],
   "source": [
    "A = matriz * vector\n",
    "print(A)"
   ]
  },
  {
   "cell_type": "markdown",
   "metadata": {},
   "source": [
    "Sea $\\vec{A} = (A_x,A_y,A_z)$ y $\\vec{B} = (B_x,B_y,B_z)$ el **Producto Interno de matrices** se puede expresar como $\\vec{A} \\cdot \\vec{B} = A_x B_x + A_y B_y + A_z B_z$\n",
    "\n",
    "El producto interno entre dos vectores también se define como:<br>\n",
    "\n",
    "$$ \\vec{A} \\cdot \\vec{B} = |A| |B| cos(\\theta)$$\n",
    "\n",
    "Siendo $\\theta$ el angulo entre A y B"
   ]
  },
  {
   "cell_type": "markdown",
   "metadata": {},
   "source": [
    "Al hacer el producto interno de una matriz nos devulve un vector del mismo que el vector"
   ]
  },
  {
   "cell_type": "code",
   "execution_count": 4,
   "metadata": {},
   "outputs": [
    {
     "name": "stdout",
     "output_type": "stream",
     "text": [
      "[ 8 18 28]\n"
     ]
    }
   ],
   "source": [
    "B = matriz.dot(vector)\n",
    "print(B)"
   ]
  },
  {
   "cell_type": "code",
   "execution_count": 5,
   "metadata": {},
   "outputs": [
    {
     "name": "stdout",
     "output_type": "stream",
     "text": [
      "[[ 8]\n",
      " [18]\n",
      " [28]]\n"
     ]
    }
   ],
   "source": [
    "C = np.dot(matriz,vector)\n",
    "print(C.reshape(-1,1)) #test para convertir un vector fila en un vector columna"
   ]
  },
  {
   "cell_type": "code",
   "execution_count": 6,
   "metadata": {},
   "outputs": [
    {
     "name": "stdout",
     "output_type": "stream",
     "text": [
      "[14 19 24]\n"
     ]
    }
   ],
   "source": [
    "D = np.dot(vector, matriz.reshape(-1,3))\n",
    "print(D)"
   ]
  },
  {
   "cell_type": "code",
   "execution_count": 7,
   "metadata": {
    "scrolled": true
   },
   "outputs": [
    {
     "data": {
      "text/plain": [
       "array([ 8, 18, 28])"
      ]
     },
     "execution_count": 7,
     "metadata": {},
     "output_type": "execute_result"
    }
   ],
   "source": [
    "matriz.dot(vector)"
   ]
  },
  {
   "cell_type": "markdown",
   "metadata": {},
   "source": [
    "**Producto entree dos matrices**"
   ]
  },
  {
   "cell_type": "code",
   "execution_count": 8,
   "metadata": {},
   "outputs": [],
   "source": [
    "A = np.array([[1,2,3],[4,5,6],[7,8,9]])\n",
    "B = ([[2,3],[5,7],[11,13]])"
   ]
  },
  {
   "cell_type": "code",
   "execution_count": 9,
   "metadata": {},
   "outputs": [
    {
     "name": "stdout",
     "output_type": "stream",
     "text": [
      "[[ 45  56]\n",
      " [ 99 125]\n",
      " [153 194]]\n"
     ]
    }
   ],
   "source": [
    "C = np.dot(A,B)\n",
    "print(C)"
   ]
  },
  {
   "cell_type": "markdown",
   "metadata": {},
   "source": [
    "### Propiedades de la multiplicación de matrices\n",
    "\n",
    "(I) $(\\vec{A}x \\vec{B}) x \\vec{C} = \\vec{A}x (\\vec{B}x\\vec{C}) $ Propiedad asociativa.\n",
    "<br>\n",
    "(II)$\\vec{A}x(\\vec{B}+\\vec{C}) = (\\vec{A}x\\vec{B})+(\\vec{A} x \\vec{C}) $ Propiedad distributiva.\n",
    "<br>\n",
    "(III)$\\vec{A} x \\vec{B} \\neq \\vec{B} x \\vec{A}$ Propiedad No conmutativa\n",
    "<br>\n",
    "\n",
    "PD: La propiedad conmutativa en este caso solo prodia ser aplicado si definimos $\\vec{a}$ y $\\vec{b}$ como vectores de una dimensión"
   ]
  },
  {
   "cell_type": "code",
   "execution_count": 10,
   "metadata": {},
   "outputs": [],
   "source": [
    "a = np.array([2,3])\n",
    "b = np.array([3,5])"
   ]
  },
  {
   "cell_type": "code",
   "execution_count": 11,
   "metadata": {},
   "outputs": [
    {
     "name": "stdout",
     "output_type": "stream",
     "text": [
      "21\n"
     ]
    }
   ],
   "source": [
    "ab = a.dot(b)\n",
    "print(ab)"
   ]
  },
  {
   "cell_type": "code",
   "execution_count": 12,
   "metadata": {
    "scrolled": true
   },
   "outputs": [
    {
     "name": "stdout",
     "output_type": "stream",
     "text": [
      "21\n"
     ]
    }
   ],
   "source": [
    "ba = b.dot(a)\n",
    "print(ba)"
   ]
  }
 ],
 "metadata": {
  "kernelspec": {
   "display_name": "Python 3",
   "language": "python",
   "name": "python3"
  },
  "language_info": {
   "codemirror_mode": {
    "name": "ipython",
    "version": 3
   },
   "file_extension": ".py",
   "mimetype": "text/x-python",
   "name": "python",
   "nbconvert_exporter": "python",
   "pygments_lexer": "ipython3",
   "version": "3.7.3"
  }
 },
 "nbformat": 4,
 "nbformat_minor": 2
}
