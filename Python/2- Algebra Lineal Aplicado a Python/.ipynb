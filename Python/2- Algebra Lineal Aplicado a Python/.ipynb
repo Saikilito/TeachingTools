{
 "cells": [
  {
   "cell_type": "markdown",
   "metadata": {},
   "source": [
    "# Introducción\n",
    "\n",
    "Al trabajar con Jupyter Notebook, por cuestiones de performance, no nos conviene superar las 100 lineas de codigo.\n",
    "Dado el caso lo que se recomienda es trabajar de la manera más modularizada posible, partiendo todo el trabajo en diferentes notebook y llamar nuestro codigo en un notebook principal.\n",
    "\n",
    "Para importar un notbook es tan sencillo como usar la siguiente sintaxis:\n",
    "\n",
    "``` %run {path}``` Se recomienda usar ```\\\\``` en lugar del slash comun al escribir en path"
   ]
  },
  {
   "cell_type": "markdown",
   "metadata": {},
   "source": [
    "## Conceptos\n",
    "\n",
    "### Escalar\n",
    "**En Matemáticas** se denomina escalar a cualquier número fijo, como números reales o complejos.\n",
    "<br>\n",
    "**En Python** cualquier tipo de dato no variable también sera considerado un dato escalar, por ejemplo Strings o Booleanos\n",
    "\n",
    "### Vector\n",
    "Es un conjunto de números que podemos representar como [1,1,1,1,1]\n",
    "Un vector se considera un conjunto de datos de una dimensión.\n",
    "\n",
    "### Matriz \n",
    "Es un conjunto de vectores apilados que podemos representar como<br>\n",
    "[1,1,...],<br>\n",
    "[1,1,...],<br>\n",
    " , ... ,<br>\n",
    "[1,1,...]<br>\n",
    "Una matriz se considera un conjunto de datos en dos dimensiones \n",
    "\n",
    "### Tensor\n",
    "Es un conjunto de matrices, un tensor se considera un conjunto de datos de tercera dimensión, ya que nos permite movernos entre filas,columnas y matrices"
   ]
  },
  {
   "cell_type": "code",
   "execution_count": 1,
   "metadata": {},
   "outputs": [],
   "source": [
    "import numpy as np"
   ]
  },
  {
   "cell_type": "code",
   "execution_count": 4,
   "metadata": {},
   "outputs": [
    {
     "name": "stdout",
     "output_type": "stream",
     "text": [
      "[1 2 3]\n"
     ]
    }
   ],
   "source": [
    "vector = np.array([1,2,3])\n",
    "print(vector)"
   ]
  },
  {
   "cell_type": "code",
   "execution_count": 8,
   "metadata": {},
   "outputs": [
    {
     "name": "stdout",
     "output_type": "stream",
     "text": [
      "[[1 2 3]\n",
      " [4 5 6]\n",
      " [7 8 9]]\n"
     ]
    }
   ],
   "source": [
    "matriz = np.array([\n",
    "    [1,2,3],\n",
    "    [4,5,6],\n",
    "    [7,8,9]\n",
    "])\n",
    "print(matriz)"
   ]
  },
  {
   "cell_type": "code",
   "execution_count": 13,
   "metadata": {},
   "outputs": [
    {
     "name": "stdout",
     "output_type": "stream",
     "text": [
      "[[[ 1  2  3]\n",
      "  [ 4  5  6]\n",
      "  [ 7  8  9]]\n",
      "\n",
      " [[13 14 15]\n",
      "  [16 17 18]\n",
      "  [19 20 21]]\n",
      "\n",
      " [[22 23 24]\n",
      "  [25 26 27]\n",
      "  [28 29 30]]]\n"
     ]
    }
   ],
   "source": [
    "tensor = np.array([\n",
    "    [[1,2,3],[4,5,6],[7,8,9]],\n",
    "    [[13,14,15],[16,17,18],[19,20,21]],\n",
    "    [[22,23,24],[25,26,27],[28,29,30]],\n",
    "])\n",
    "print(tensor)"
   ]
  },
  {
   "cell_type": "markdown",
   "metadata": {},
   "source": [
    "## Graficando\n",
    "Para graficar es recomedable el uso de matplotlib"
   ]
  },
  {
   "cell_type": "code",
   "execution_count": 11,
   "metadata": {},
   "outputs": [],
   "source": [
    "#muestra la imagen al final de la celda\n",
    "%matplotlib inline \n",
    "import matplotlib.pyplot as plt"
   ]
  },
  {
   "cell_type": "markdown",
   "metadata": {},
   "source": [
    "Vamos a graficar nuestro tensor como si fuera una imagen"
   ]
  },
  {
   "cell_type": "code",
   "execution_count": 12,
   "metadata": {},
   "outputs": [
    {
     "data": {
      "text/plain": [
       "<matplotlib.image.AxesImage at 0x2762f18e2b0>"
      ]
     },
     "execution_count": 12,
     "metadata": {},
     "output_type": "execute_result"
    },
    {
     "data": {
      "image/png": "[encoded data removed]",
      "text/plain": [
       "<Figure size 432x288 with 1 Axes>"
      ]
     },
     "metadata": {
      "needs_background": "light"
     },
     "output_type": "display_data"
    }
   ],
   "source": [
    "plt.imshow(tensor, interpolation=\"nearest\")"
   ]
  },
  {
   "cell_type": "markdown",
   "metadata": {},
   "source": [
    "Por los valores escogidos dentro del tensor tenemos una imagen, que aunque es dificil de apreciar tiene distintos tonos de negros.\n",
    "<br>\n",
    "Ahora, vamos a cambiar los valores del tensor para ver como podemos representar una imagen diferente"
   ]
  },
  {
   "cell_type": "code",
   "execution_count": 14,
   "metadata": {},
   "outputs": [
    {
     "data": {
      "text/plain": [
       "<matplotlib.image.AxesImage at 0x2762f231f28>"
      ]
     },
     "execution_count": 14,
     "metadata": {},
     "output_type": "execute_result"
    },
    {
     "data": {
      "image/png": "[encoded data removed]",
      "text/plain": [
       "<Figure size 432x288 with 1 Axes>"
      ]
     },
     "metadata": {
      "needs_background": "light"
     },
     "output_type": "display_data"
    }
   ],
   "source": [
    "tensor = np.array([\n",
    "    [[0,0,0],[0,0,0],[0,0,0]],\n",
    "    [[128,128,128],[128,128,128],[128,128,128]],\n",
    "    [[255,255,255],[255,255,255],[255,255,255]],\n",
    "])\n",
    "plt.imshow(tensor, interpolation=\"nearest\")"
   ]
  },
  {
   "cell_type": "markdown",
   "metadata": {},
   "source": [
    "Como vemos interpreta los colores de maneras diferente para la imagen"
   ]
  }
 ],
 "metadata": {
  "kernelspec": {
   "display_name": "Python 3",
   "language": "python",
   "name": "python3"
  },
  "language_info": {
   "codemirror_mode": {
    "name": "ipython",
    "version": 3
   },
   "file_extension": ".py",
   "mimetype": "text/x-python",
   "name": "python",
   "nbconvert_exporter": "python",
   "pygments_lexer": "ipython3",
   "version": "3.7.3"
  }
 },
 "nbformat": 4,
 "nbformat_minor": 2
}
