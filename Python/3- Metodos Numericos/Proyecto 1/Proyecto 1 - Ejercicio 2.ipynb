{
 "cells": [
  {
   "cell_type": "markdown",
   "metadata": {},
   "source": [
    "2. Para determinar el grado del polinomio que interpola una data ajustando por mínimos cuadrados,\n",
    "se recurre a la ecuación:"
   ]
  },
  {
   "cell_type": "markdown",
   "metadata": {},
   "source": [
    "<h3 align=\"center\">$\\sigma = \\frac{\\sum\\limits_{i=1}^{N}e^2_i}{N-n-1}$</h3>"
   ]
  },
  {
   "cell_type": "markdown",
   "metadata": {},
   "source": [
    "Donde: \n",
    "* $\\sigma$ es la varianza\n",
    "* n es el grado del polinomio \n",
    "* N el número de datos que se ajustan\n",
    "* $e_i^2 = (y_i − \\hat{y}_i)^2$ son las desviaciones de los puntos. \n",
    "\n",
    "Se empieza con un polinomio de grado uno, se calcula su varianza y se reserva, luego se repite el procedimiento para un polinomio de grado 2 y así sucesivamente mientras haya un decremento de la varianza. \n",
    "\n",
    "Se elige el polinomio de varianza mínima y de menor grado. \n",
    "\n",
    "**Aplicando este criterio :**"
   ]
  },
  {
   "cell_type": "markdown",
   "metadata": {},
   "source": [
    "**a)** ¿ cuál es el polinomio de menor grado que mejor ajusta la data dada a continuación ?"
   ]
  },
  {
   "cell_type": "code",
   "execution_count": 1,
   "metadata": {},
   "outputs": [],
   "source": [
    "x = [ 0.05, 0.11, 0.15, 0.31, 0.46, 0.52, 0.70, 0.74, 0.82, 0.98, 1.17]\n",
    "y = [0.956, 0.890, 0.832, 0.717, 0.571, 0.539, 0.378, 0.370, 0.306, 0.242, 0.104]"
   ]
  },
  {
   "cell_type": "markdown",
   "metadata": {},
   "source": [
    "**Respuesta:**\n",
    "\n",
    "1- Insertamos el código que permite el calculo de poliniomios por minimos cuadrados"
   ]
  },
  {
   "cell_type": "code",
   "execution_count": 19,
   "metadata": {},
   "outputs": [],
   "source": [
    "import numpy as np\n",
    "from sympy import *"
   ]
  },
  {
   "cell_type": "code",
   "execution_count": 24,
   "metadata": {},
   "outputs": [],
   "source": [
    "def min_cuadrados(x,y,m):\n",
    "    #*---Entradas---*#   \n",
    "    if(len(x) != len(y)):\n",
    "        return print(\"Error al ingresar datos!\")    \n",
    "\n",
    "    if(m >= len(x)):\n",
    "        return print(\"Se requieren más datos para este grado\")\n",
    "    \n",
    "    x = np.array(x)\n",
    "    y = np.array(y)\n",
    "\n",
    "    m += 1\n",
    "    n = len(x)\n",
    "    Sx = np.zeros((n,n),float)\n",
    "    Sxy = np.zeros(n,float)\n",
    "    auxSx = np.empty((m,m),float)\n",
    "    auxSxy = np.empty((m),float)\n",
    "    auxSol = np.empty((m),float)\n",
    "\n",
    "    Px = 0\n",
    "    X = symbols('x')\n",
    "    Y = symbols('y', cls=Function)\n",
    "    \n",
    "    #*--- Procesos ---*#\n",
    "    # *--- Creando vectores ---*#\n",
    "    for i in range(n):\n",
    "        for j in range(n):\n",
    "            for k in range(n):\n",
    "                #*--- Matriz de sumatorias de x elevado ---*#\n",
    "                Sx[i,j] += x[k]**(j+i)\n",
    "            #*--- Vector de sumatorias de y * x elevado ---#\n",
    "            Sxy[i] += y[j]*(x[j]**i) \n",
    "    \n",
    "    #*--- Solucionando el sistema ---*#\n",
    "    auxSx = Sx[0:m,0:m]\n",
    "    auxSxy = Sxy[0:m]\n",
    "    sol = np.linalg.solve(auxSx,auxSxy)\n",
    "    auxSol = np.around(sol,3)\n",
    "    #*--- Armando el polinomio solicitado ---*#\n",
    "    for i in range(m):\n",
    "        Px += X**i * np.around(sol[i],3)\n",
    "    \n",
    "    Y = Px\n",
    "    #*--- Salidas ---*#    \n",
    "    return Y"
   ]
  },
  {
   "cell_type": "markdown",
   "metadata": {},
   "source": [
    "2- Insertamos el algoritmo para resolver el ejercicio planteado"
   ]
  },
  {
   "cell_type": "code",
   "execution_count": 28,
   "metadata": {},
   "outputs": [
    {
     "name": "stdout",
     "output_type": "stream",
     "text": [
      "El polinio que mejor interpola es de grado  1\n",
      "La varianza expresada es de  sigma = 6.77877530479635e-6\n",
      "Y tiene la forma de:  0.952 - 0.76*x\n"
     ]
    }
   ],
   "source": [
    "def sigmaFunction():    \n",
    "    sigma = Symbol('sigma')\n",
    "    N = len(x)\n",
    "    n = 2\n",
    "    acum = 0\n",
    "    grade = []\n",
    "    y_b = []\n",
    "\n",
    "    less_num = 0\n",
    "\n",
    "    for i in range(N):\n",
    "        function_c = (min_cuadrados(x,y,N-1))\n",
    "\n",
    "        for j in range(N):\n",
    "            acum += ((y[j]- function_c.subs('x',x[j]))**2)/(N-n-1)\n",
    "        grade.append(acum)\n",
    "\n",
    "    less_num = grade[0]\n",
    "    for i in range(N):\n",
    "        if(less_num > grade[i]):\n",
    "            less_num = grade[i]\n",
    "\n",
    "    grade_pol = grade.index(less_num)+1\n",
    "\n",
    "    interpol = min_cuadrados(x,y,grade_pol)\n",
    "\n",
    "    for i in range(N):\n",
    "        y_b.append(interpol.subs('x',x[i]))\n",
    "\n",
    "    print(\"El polinio que mejor interpola es de grado \", grade_pol)\n",
    "    print(\"La varianza expresada es de \", sigma, '=', less_num)\n",
    "    print(\"Y tiene la forma de: \", interpol)\n",
    "    \n",
    "sigmaFunction()"
   ]
  },
  {
   "cell_type": "markdown",
   "metadata": {},
   "source": [
    "**b)** En una sola gráfica representar los puntos de la data y el polinomio de menor grado encontrado\n",
    "en el literal anterior."
   ]
  },
  {
   "cell_type": "code",
   "execution_count": 10,
   "metadata": {},
   "outputs": [],
   "source": [
    "%matplotlib inline"
   ]
  },
  {
   "cell_type": "code",
   "execution_count": 56,
   "metadata": {},
   "outputs": [],
   "source": [
    "from matplotlib import pyplot as plt"
   ]
  },
  {
   "cell_type": "code",
   "execution_count": 82,
   "metadata": {},
   "outputs": [
    {
     "data": {
      "image/png": "[encoded data removed]",
      "text/plain": [
       "<Figure size 432x288 with 1 Axes>"
      ]
     },
     "metadata": {
      "needs_background": "light"
     },
     "output_type": "display_data"
    },
    {
     "data": {
      "image/png": "[encoded data removed]",
      "text/plain": [
       "<Figure size 432x288 with 2 Axes>"
      ]
     },
     "metadata": {
      "needs_background": "light"
     },
     "output_type": "display_data"
    }
   ],
   "source": [
    "fig, axes = plt.subplots()\n",
    "axes.plot(x,y,'o')\n",
    "axes.plot(x,y_b,'r', label=\"\")\n",
    "axes.grid(true)\n",
    "\n",
    "fig,axes = plt.subplots(1,2)\n",
    "axes[0].plot(x,y, 'b', label=\"Original data\")\n",
    "axes[0].set_xlabel(\"Eje x\")\n",
    "axes[0].set_ylabel(\"Eje y\")\n",
    "axes[0].legend()\n",
    "axes[0].grid(true)\n",
    "axes[1].plot(x,y_b, 'r', label=interpol)\n",
    "axes[1].legend()\n",
    "axes[1].set_xlabel(\"Eje x\")\n",
    "axes[1].grid(true)"
   ]
  },
  {
   "cell_type": "code",
   "execution_count": null,
   "metadata": {},
   "outputs": [],
   "source": []
  }
 ],
 "metadata": {
  "kernelspec": {
   "display_name": "Python 3",
   "language": "python",
   "name": "python3"
  },
  "language_info": {
   "codemirror_mode": {
    "name": "ipython",
    "version": 3
   },
   "file_extension": ".py",
   "mimetype": "text/x-python",
   "name": "python",
   "nbconvert_exporter": "python",
   "pygments_lexer": "ipython3",
   "version": "3.7.4"
  }
 },
 "nbformat": 4,
 "nbformat_minor": 2
}
