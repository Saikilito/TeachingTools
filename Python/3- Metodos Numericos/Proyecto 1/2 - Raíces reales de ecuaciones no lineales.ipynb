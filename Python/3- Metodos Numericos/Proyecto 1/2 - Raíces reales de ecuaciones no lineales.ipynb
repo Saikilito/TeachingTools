{
 "cells": [
  {
   "cell_type": "markdown",
   "metadata": {},
   "source": [
    "## Matplotlib\n",
    "\n",
    "las siguientes lineas permiten que Notebook pueda graficar"
   ]
  },
  {
   "cell_type": "code",
   "execution_count": 1,
   "metadata": {},
   "outputs": [],
   "source": [
    "%matplotlib inline\n",
    "import matplotlib.pyplot as plt\n",
    "plt.style.use('seaborn-whitegrid')\n",
    "#seaborn-poster\n",
    "#whitegrid"
   ]
  },
  {
   "cell_type": "markdown",
   "metadata": {},
   "source": [
    "---\n",
    "---"
   ]
  },
  {
   "cell_type": "code",
   "execution_count": 2,
   "metadata": {},
   "outputs": [],
   "source": [
    "from sympy import *"
   ]
  },
  {
   "cell_type": "markdown",
   "metadata": {},
   "source": [
    "Declarando variables de la ecuación"
   ]
  },
  {
   "cell_type": "code",
   "execution_count": 3,
   "metadata": {},
   "outputs": [],
   "source": [
    "v = Symbol('v')\n",
    "t = Symbol('t')\n",
    "u = 2510\n",
    "Mo = 2.8*(10**6)\n",
    "c = 13.3*(10**3)\n",
    "g = (9.81)"
   ]
  },
  {
   "cell_type": "markdown",
   "metadata": {},
   "source": [
    "Definiendo la función"
   ]
  },
  {
   "cell_type": "code",
   "execution_count": 4,
   "metadata": {},
   "outputs": [
    {
     "data": {
      "text/latex": [
       "$\\displaystyle - 9.81 t + 2510 \\log{\\left(\\frac{2800000.0}{2800000.0 - 13300.0 t} \\right)} - 335$"
      ],
      "text/plain": [
       "-9.81*t + 2510*log(2800000.0/(2800000.0 - 13300.0*t)) - 335"
      ]
     },
     "execution_count": 4,
     "metadata": {},
     "output_type": "execute_result"
    }
   ],
   "source": [
    "def v(t): return (u * ln(Mo/(Mo - (c*t)))  - (g*t)) - 335\n",
    "v(t)"
   ]
  },
  {
   "cell_type": "markdown",
   "metadata": {},
   "source": [
    "Graficamos la funcion definida"
   ]
  },
  {
   "cell_type": "code",
   "execution_count": 5,
   "metadata": {},
   "outputs": [
    {
     "data": {
      "image/png": "[encoded data removed]",
      "text/plain": [
       "<Figure size 432x288 with 1 Axes>"
      ]
     },
     "metadata": {
      "needs_background": "light"
     },
     "output_type": "display_data"
    },
    {
     "data": {
      "text/plain": [
       "<sympy.plotting.plot.Plot at 0x2840b8667b8>"
      ]
     },
     "execution_count": 5,
     "metadata": {},
     "output_type": "execute_result"
    }
   ],
   "source": [
    "plot(v(t),(t,0,80))"
   ]
  },
  {
   "cell_type": "code",
   "execution_count": 6,
   "metadata": {},
   "outputs": [
    {
     "data": {
      "image/png": "[encoded data removed]",
      "text/plain": [
       "<Figure size 432x288 with 1 Axes>"
      ]
     },
     "metadata": {
      "needs_background": "light"
     },
     "output_type": "display_data"
    },
    {
     "data": {
      "text/plain": [
       "<sympy.plotting.plot.Plot at 0x2840c9e96a0>"
      ]
     },
     "execution_count": 6,
     "metadata": {},
     "output_type": "execute_result"
    }
   ],
   "source": [
    "plot(v(t),(t,65,75))"
   ]
  },
  {
   "cell_type": "markdown",
   "metadata": {},
   "source": [
    "**Determinando el momento en que el cohete alcanza la velocidad del sonido (335 m/s)**\n",
    "\n",
    "----\n",
    "----\n",
    "\n",
    "### Algoritmo de bisección\n",
    "\n",
    "Algoritmo Biseccion\n",
    "```\n",
    "    Leer f, a, b, err    \n",
    "    Mientras (b - a) > err Hacer\n",
    "        c <- (a+b)/2\n",
    "        Si f(c) = 0 Entonces\n",
    "            Terminar\n",
    "        SiNo\n",
    "            Si f(a) < 335 Y f(c) < 355 \n",
    "                a <- c\n",
    "            SiNo \n",
    "                b <- c\n",
    "            Fin Si\n",
    "        Fin Si\n",
    "    Fin Mientras\n",
    "    Escribir c\n",
    "```"
   ]
  },
  {
   "cell_type": "markdown",
   "metadata": {},
   "source": [
    "## Codigo en Python"
   ]
  },
  {
   "cell_type": "code",
   "execution_count": 7,
   "metadata": {},
   "outputs": [
    {
     "data": {
      "text/latex": [
       "$\\displaystyle - 9.81 t + 2510 \\log{\\left(\\frac{2800000.0}{2800000.0 - 13300.0 t} \\right)} - 335$"
      ],
      "text/plain": [
       "-9.81*t + 2510*log(2800000.0/(2800000.0 - 13300.0*t)) - 335"
      ]
     },
     "execution_count": 7,
     "metadata": {},
     "output_type": "execute_result"
    }
   ],
   "source": [
    "a = 65\n",
    "b = 75\n",
    "err = 0.000001\n",
    "v(t)"
   ]
  },
  {
   "cell_type": "code",
   "execution_count": 8,
   "metadata": {},
   "outputs": [],
   "source": [
    "def biseccion(f,a,b,err):\n",
    "    while (b - a) >= err:\n",
    "        c = (a+b)/2\n",
    "        if f(c) == 0:\n",
    "            return c\n",
    "        else:\n",
    "            if f(a) * f(c) > 0:\n",
    "                a = c\n",
    "            else:\n",
    "                b = c\n",
    "    return c"
   ]
  },
  {
   "cell_type": "code",
   "execution_count": 9,
   "metadata": {},
   "outputs": [
    {
     "data": {
      "text/plain": [
       "70.87797224521637"
      ]
     },
     "execution_count": 9,
     "metadata": {},
     "output_type": "execute_result"
    }
   ],
   "source": [
    "from math import *\n",
    "rz = biseccion(v,a,b,err)\n",
    "rz"
   ]
  },
  {
   "cell_type": "code",
   "execution_count": 10,
   "metadata": {},
   "outputs": [
    {
     "data": {
      "text/latex": [
       "$\\displaystyle -1.86661054613069 \\cdot 10^{-7}$"
      ],
      "text/plain": [
       "-1.86661054613069e-7"
      ]
     },
     "execution_count": 10,
     "metadata": {},
     "output_type": "execute_result"
    }
   ],
   "source": [
    "v(rz)"
   ]
  },
  {
   "cell_type": "markdown",
   "metadata": {},
   "source": [
    "### Algoritmo Punto fijo\n",
    "\n",
    "```\n",
    "Leer g, x, err\n",
    "Mientras |g(x) - x| > err\n",
    "    x <- g(x)\n",
    "Fin Mientras\n",
    "Escribir x\n",
    "```\n",
    "\n",
    "Sea `v(t) = g(t) - t`\n",
    "\n",
    "Si `0 = u * ln(Mo/(Mo-c*t)) - g*t`\n",
    "\n",
    "luego `t = (u * ln(Mo/(Mo-c*t))/g`\n",
    "\n",
    "Entonces `g(t) = (u * ln(Mo/(Mo-c*t)))/g`\n",
    "`\n",
    "\n",
    "Sabemos que hay una raiz cerca por la izquierda de t = 71, por lo que tomaremos to=70 como punto inicial"
   ]
  },
  {
   "cell_type": "code",
   "execution_count": 29,
   "metadata": {},
   "outputs": [
    {
     "data": {
      "text/latex": [
       "$\\displaystyle 255.861365953109 \\log{\\left(\\frac{2800000.0}{2800000.0 - 13300.0 t} \\right)}$"
      ],
      "text/plain": [
       "255.861365953109*log(2800000.0/(2800000.0 - 13300.0*t))"
      ]
     },
     "execution_count": 29,
     "metadata": {},
     "output_type": "execute_result"
    }
   ],
   "source": [
    "def gf(t): return (u * ln(Mo/(Mo-c*t)))/g\n",
    "gf(t)"
   ]
  },
  {
   "cell_type": "code",
   "execution_count": 57,
   "metadata": {},
   "outputs": [
    {
     "data": {
      "text/latex": [
       "$\\displaystyle \\frac{9528277268093.78 \\left(1.0 - 0.00475 t\\right)}{\\left(2800000.0 - 13300.0 t\\right)^{2}}$"
      ],
      "text/plain": [
       "9528277268093.78*(1.0 - 0.00475*t)/(2800000.0 - 13300.0*t)**2"
      ]
     },
     "execution_count": 57,
     "metadata": {},
     "output_type": "execute_result"
    }
   ],
   "source": [
    "diffG = gf(t)\n",
    "diffG.diff(t)"
   ]
  },
  {
   "cell_type": "code",
   "execution_count": 51,
   "metadata": {},
   "outputs": [
    {
     "data": {
      "image/png": "[encoded data removed]",
      "text/plain": [
       "<Figure size 432x288 with 1 Axes>"
      ]
     },
     "metadata": {
      "needs_background": "light"
     },
     "output_type": "display_data"
    },
    {
     "data": {
      "text/plain": [
       "<sympy.plotting.plot.Plot at 0x2840ec76208>"
      ]
     },
     "execution_count": 51,
     "metadata": {},
     "output_type": "execute_result"
    }
   ],
   "source": [
    "plot(gf(t),t,(t,-800,800))"
   ]
  },
  {
   "cell_type": "code",
   "execution_count": 52,
   "metadata": {},
   "outputs": [
    {
     "data": {
      "image/png": "[encoded data removed]",
      "text/plain": [
       "<Figure size 432x288 with 1 Axes>"
      ]
     },
     "metadata": {
      "needs_background": "light"
     },
     "output_type": "display_data"
    },
    {
     "data": {
      "text/plain": [
       "<sympy.plotting.plot.Plot at 0x2840fcb7a58>"
      ]
     },
     "execution_count": 52,
     "metadata": {},
     "output_type": "execute_result"
    }
   ],
   "source": [
    "plot(gf(t),t,(t,-5,5))"
   ]
  },
  {
   "cell_type": "code",
   "execution_count": 44,
   "metadata": {},
   "outputs": [
    {
     "data": {
      "text/latex": [
       "$\\displaystyle 0$"
      ],
      "text/plain": [
       "0"
      ]
     },
     "execution_count": 44,
     "metadata": {},
     "output_type": "execute_result"
    }
   ],
   "source": [
    "gf(0)"
   ]
  },
  {
   "cell_type": "code",
   "execution_count": 39,
   "metadata": {},
   "outputs": [
    {
     "data": {
      "text/latex": [
       "$\\displaystyle 0.00012153417768493$"
      ],
      "text/plain": [
       "0.000121534177684930"
      ]
     },
     "execution_count": 39,
     "metadata": {},
     "output_type": "execute_result"
    }
   ],
   "source": [
    "gf(0.0001)"
   ]
  },
  {
   "cell_type": "markdown",
   "metadata": {},
   "source": [
    "El teoriema de punto fijo establece que si no se cumple que `g(a) > a` y además `g(b) < b`, pero `g(a) = a` ó `g(b) = b` entonces existe un punto fijo en un extremo, en nuestro caso `g(0) = 0`"
   ]
  },
  {
   "cell_type": "code",
   "execution_count": 54,
   "metadata": {},
   "outputs": [
    {
     "ename": "AttributeError",
     "evalue": "'function' object has no attribute 'diff'",
     "output_type": "error",
     "traceback": [
      "\u001b[1;31m---------------------------------------------------------------------------\u001b[0m",
      "\u001b[1;31mAttributeError\u001b[0m                            Traceback (most recent call last)",
      "\u001b[1;32m<ipython-input-54-4dc2c475fd9b>\u001b[0m in \u001b[0;36m<module>\u001b[1;34m\u001b[0m\n\u001b[1;32m----> 1\u001b[1;33m \u001b[0mgf\u001b[0m\u001b[1;33m.\u001b[0m\u001b[0mdiff\u001b[0m\u001b[1;33m(\u001b[0m\u001b[0mt\u001b[0m\u001b[1;33m)\u001b[0m\u001b[1;33m\u001b[0m\u001b[1;33m\u001b[0m\u001b[0m\n\u001b[0m",
      "\u001b[1;31mAttributeError\u001b[0m: 'function' object has no attribute 'diff'"
     ]
    }
   ],
   "source": [
    "gf.diff(t)"
   ]
  },
  {
   "cell_type": "code",
   "execution_count": 46,
   "metadata": {},
   "outputs": [
    {
     "data": {
      "text/latex": [
       "$\\displaystyle 0$"
      ],
      "text/plain": [
       "0"
      ]
     },
     "execution_count": 46,
     "metadata": {},
     "output_type": "execute_result"
    }
   ],
   "source": [
    "def Punto_Fijo (g,x,err):\n",
    "    while (abs(g(x)-x)) >= err:\n",
    "        x = g(x)\n",
    "    return abs(g(x)-x)\n",
    "    \n",
    "to = 0\n",
    "err = 0.0001\n",
    "\n",
    "Punto_Fijo(gf,to,err)"
   ]
  },
  {
   "cell_type": "code",
   "execution_count": 17,
   "metadata": {},
   "outputs": [
    {
     "data": {
      "text/latex": [
       "$\\displaystyle 103.42322942471$"
      ],
      "text/plain": [
       "103.423229424710"
      ]
     },
     "execution_count": 17,
     "metadata": {},
     "output_type": "execute_result"
    }
   ],
   "source": [
    "abs(gf(to))"
   ]
  }
 ],
 "metadata": {
  "kernelspec": {
   "display_name": "Python 3",
   "language": "python",
   "name": "python3"
  },
  "language_info": {
   "codemirror_mode": {
    "name": "ipython",
    "version": 3
   },
   "file_extension": ".py",
   "mimetype": "text/x-python",
   "name": "python",
   "nbconvert_exporter": "python",
   "pygments_lexer": "ipython3",
   "version": "3.7.3"
  }
 },
 "nbformat": 4,
 "nbformat_minor": 2
}
