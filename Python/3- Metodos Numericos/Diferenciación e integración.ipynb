{
 "cells": [
  {
   "cell_type": "markdown",
   "metadata": {},
   "source": [
    "# Diferenciación e integración\n",
    "\n",
    "Derivar mediante los siguientes caminos:\n",
    "* Derivada por Polinomio interporlante de menor variabilidad (minimos cuadrados)\n",
    "* Derivada por diferencias de dos puntos\n",
    "* Derivada por diferencias de tres puntos"
   ]
  },
  {
   "cell_type": "markdown",
   "metadata": {},
   "source": [
    "## Funciones Python\n",
    "\n",
    "### Esta funciones pueden depender de las siguientes librerias"
   ]
  },
  {
   "cell_type": "code",
   "execution_count": 1,
   "metadata": {},
   "outputs": [],
   "source": [
    "import numpy as np\n",
    "import pandas as pd\n",
    "import sympy\n",
    "import matplotlib.pyplot as plt\n",
    "%matplotlib inline\n"
   ]
  },
  {
   "cell_type": "markdown",
   "metadata": {},
   "source": [
    "### Metodo de poliniomios interpolante por minimos cuadrados"
   ]
  },
  {
   "cell_type": "code",
   "execution_count": 2,
   "metadata": {},
   "outputs": [],
   "source": [
    "def min_cuadrados(x,y,m):\n",
    "    #*--- Entradas ---*#\n",
    "    ## x, y son el par de datos con el que trabajaremos\n",
    "    ## m, es el grado de polinomio que deseamos modelar\n",
    "    \n",
    "    m = int(m)\n",
    "    \n",
    "    if(len(x) != len(y)):\n",
    "        return print(\"Error al ingresar datos!\")    \n",
    "\n",
    "    if(m >= len(x)):\n",
    "        return print(\"Se requieren más datos para este grado\")\n",
    "\n",
    "    m += 1\n",
    "    n = len(x)\n",
    "    Sx = np.zeros((n,n),float)\n",
    "    Sxy = np.zeros(n,float)\n",
    "    auxSx = np.empty((m,m),float)\n",
    "    auxSxy = np.empty((m),float)\n",
    "    auxSol = np.empty((m),float)\n",
    "\n",
    "    Px = 0\n",
    "    X, Y = sympy.symbols('x y')\n",
    "    \n",
    "    #*--- Procesos ---*#\n",
    "    # *--- Creando vectores ---*#\n",
    "    for i in range(n):\n",
    "        for j in range(n):\n",
    "            for k in range(n):\n",
    "                #*--- Matriz de sumatorias de x elevado ---*#\n",
    "                Sx[i,j] += x[k]**(j+i)\n",
    "            #*--- Vector de sumatorias de y * x elevado ---#\n",
    "            Sxy[i] += y[j]*(x[j]**i) \n",
    "    \n",
    "    #*--- Solucionando el sistema ---*#\n",
    "    auxSx = Sx[0:m,0:m]\n",
    "    auxSxy = Sxy[0:m]\n",
    "    sol = np.linalg.solve(auxSx,auxSxy)\n",
    "    auxSol = np.around(sol,3)\n",
    "    #*--- Armando el polinomio solicitado ---*#\n",
    "    for i in range(m):\n",
    "        Px += X**i * np.around(sol[i],3)\n",
    "    \n",
    "    return Px"
   ]
  },
  {
   "cell_type": "markdown",
   "metadata": {},
   "source": [
    "### Obtener el poliniomio que mejor se ajusta a la data (menor varianza)"
   ]
  },
  {
   "cell_type": "code",
   "execution_count": 3,
   "metadata": {},
   "outputs": [],
   "source": [
    "def sigmaFunction(x,y):    \n",
    "    sigma = sympy.Symbol('sigma')\n",
    "    N = len(x)\n",
    "    n = 2\n",
    "    acum = 0\n",
    "    grade = []\n",
    "    y_b = []\n",
    "\n",
    "    less_num = 0\n",
    "\n",
    "    for i in range(N):\n",
    "        function_c = (min_cuadrados(x,y,N-1))\n",
    "\n",
    "        for j in range(N):\n",
    "            acum += ((y[j]- function_c.subs('x',x[j]))**2)/(N-n-1)\n",
    "        grade.append(acum)\n",
    "\n",
    "    less_num = grade[0]\n",
    "    for i in range(N):\n",
    "        if(less_num > grade[i]):\n",
    "            less_num = grade[i]\n",
    "\n",
    "    grade_pol = grade.index(less_num)+1\n",
    "\n",
    "    interpol = min_cuadrados(x,y,grade_pol)\n",
    "\n",
    "    for i in range(N):\n",
    "        y_b.append(interpol.subs('x',x[i]))\n",
    "\n",
    "    print(\"El polinio que mejor interpola es de grado \", grade_pol)\n",
    "    print(\"La varianza expresada es de \", sigma, '=', less_num)\n",
    "    print(\"Y tiene la forma de: \", interpol)\n",
    "    \n",
    "    return interpol"
   ]
  },
  {
   "cell_type": "markdown",
   "metadata": {},
   "source": [
    "### Obtener derivada del poliniomio interpolante"
   ]
  },
  {
   "cell_type": "code",
   "execution_count": 4,
   "metadata": {},
   "outputs": [],
   "source": [
    "def pol_int_drv(x,fx):\n",
    "    Px = sigmaFunction(x,fx)\n",
    "    return sympy.diff(Px)"
   ]
  },
  {
   "cell_type": "markdown",
   "metadata": {},
   "source": [
    "### Derivada por diferencias (usando dos puntos, hacia adelante)"
   ]
  },
  {
   "cell_type": "code",
   "execution_count": 5,
   "metadata": {},
   "outputs": [],
   "source": [
    "def drv_ad(x,h):\n",
    "    vec = []\n",
    "    for i in range(0,len(x)):\n",
    "        if i <= (len(x)-2):\n",
    "        #si no estamos en el ultimo numero hacemos una derivada hacia adelante\n",
    "            vec.append((x[i+1] - x[i])*(1/h))\n",
    "        else :\n",
    "        #llegados al ultimo punto hacemos una derivada hacia atras\n",
    "            vec.append((x[i]-x[i-1])*(1/h))\n",
    "    return vec"
   ]
  },
  {
   "cell_type": "markdown",
   "metadata": {},
   "source": [
    "### Derivada por diferencias (usando dos puntos, centrada)"
   ]
  },
  {
   "cell_type": "code",
   "execution_count": 6,
   "metadata": {},
   "outputs": [],
   "source": [
    "def drv_c(x,h):\n",
    "    vec = []\n",
    "    for i in range(0,len(x)):\n",
    "        if i == 0:\n",
    "            #si estamos en el primer número hacemos una derivada hacia adelante\n",
    "            vec.append((x[i+1] - x[i])*(1/h))\n",
    "        elif i == len(x)-1 :\n",
    "        #llegados al ultimo punto hacemos una derivada hacia atras\n",
    "            vec.append((x[i]-x[i-1])*(1/h))\n",
    "        else:\n",
    "            vec.append((-x[i-1]+x[i+1])*(1/(2*h)))\n",
    "    return vec"
   ]
  },
  {
   "cell_type": "markdown",
   "metadata": {},
   "source": [
    "### Derivada por diferencias (usando tres puntos, hacia delante)"
   ]
  },
  {
   "cell_type": "code",
   "execution_count": 7,
   "metadata": {},
   "outputs": [],
   "source": [
    "def drv_ad3(x,h):\n",
    "    vec = []\n",
    "    for i in range(0,len(x)):\n",
    "        if i <= len(x)-3:\n",
    "            #si no estamos en el ultimo numero hacemos una derivada hacia adelante\n",
    "            vec.append((-3 * x[i] + 4 * x[i+1] - 1 * x[i+2])*(1/(2*h)))\n",
    "        elif i <= len(x)-2:\n",
    "            #si estamos en el penultimo numero hacemos una derivada centrada\n",
    "            vec.append((-1*x[i-1] + x[i+1])*(1/(2*h)))\n",
    "        elif i <= len(x) - 1:\n",
    "            #si no podemos escoger dos numeros adelante hacemos derivada hacia atras\n",
    "            vec.append((x[i-2] - 4 * x[i-1] + 3 * x[i])*(1/(2*h)))\n",
    "    return vec"
   ]
  },
  {
   "cell_type": "markdown",
   "metadata": {},
   "source": [
    "### Segunda derivada derivada por diferencias (tres puntos)"
   ]
  },
  {
   "cell_type": "code",
   "execution_count": 8,
   "metadata": {},
   "outputs": [],
   "source": [
    "def drv2_ad(x,h):\n",
    "    vec = []\n",
    "    for i in range(0,len(x)):\n",
    "        if  len(x)-3 >= i:\n",
    "            vec.append((x[i] - 2 * x[i+1] + x[i+2])/(h*h))\n",
    "        elif i == len(x) - 2:     \n",
    "            vec.append((x[i-1] - 2*x[i] + x[i+1])/(h*h))\n",
    "        elif i == len(x) - 1:\n",
    "            vec.append((x[i] - 2 * x[i-1] + x[i-2])/(h*h))\n",
    "    \n",
    "    return vec"
   ]
  },
  {
   "cell_type": "markdown",
   "metadata": {},
   "source": [
    "Segunda derivada derivada por diferencias (tres puntos)"
   ]
  },
  {
   "cell_type": "markdown",
   "metadata": {},
   "source": [
    "<hr>\n",
    "<hr>\n",
    "<hr>\n",
    "<br>\n",
    "<br>\n",
    "<br>\n",
    "\n",
    "## Supongase el siguiente ejercicio.\n",
    "\n",
    "1. Un automóvil recorre una pista en 65 segundos. La distancia recorrida por el automóvil se determina cada 5 segundos. Los datos se presentan en la siguiente tabla."
   ]
  },
  {
   "cell_type": "code",
   "execution_count": 9,
   "metadata": {},
   "outputs": [],
   "source": [
    "time = [0, 5, 10, 15, 20, 25, 30, 35, 40, 45, 50, 55, 60, 65]"
   ]
  },
  {
   "cell_type": "code",
   "execution_count": 10,
   "metadata": {},
   "outputs": [],
   "source": [
    "distance = [0, 54, 115, 175, 250, 330, 400, 460, 516, 566, 628, 698, 774, 844]"
   ]
  },
  {
   "cell_type": "code",
   "execution_count": 11,
   "metadata": {
    "scrolled": true
   },
   "outputs": [
    {
     "data": {
      "image/png": "[encoded data removed]",
      "text/plain": [
       "<Figure size 432x288 with 1 Axes>"
      ]
     },
     "metadata": {
      "needs_background": "light"
     },
     "output_type": "display_data"
    }
   ],
   "source": [
    "plt.plot(time,distance,'o',label='data')\n",
    "plt.legend()\n",
    "plt.grid(True)"
   ]
  },
  {
   "cell_type": "markdown",
   "metadata": {},
   "source": [
    "**A partir de estos datos, calcule la velocidad y la aceleración usando derivadas**\n",
    "\n",
    "Sabiendo que la primera derivada de la distancia es la velocidad\n",
    "Sabiendo que la segunda derivada de la distancia es la aceleración"
   ]
  },
  {
   "cell_type": "markdown",
   "metadata": {},
   "source": [
    "### Calculo de la velocidad (primera derivada)\n",
    "\n",
    "**Calcule derivada por polinomio interpolante (minimos cuadrados)**"
   ]
  },
  {
   "cell_type": "code",
   "execution_count": 12,
   "metadata": {},
   "outputs": [
    {
     "name": "stdout",
     "output_type": "stream",
     "text": [
      "El polinio que mejor interpola es de grado  1\n",
      "La varianza expresada es de  sigma = 5563258753454.58\n",
      "Y tiene la forma de:  12.971*x - 6.543\n"
     ]
    },
    {
     "data": {
      "text/latex": [
       "$\\displaystyle 12.971 x - 6.543$"
      ],
      "text/plain": [
       "12.971*x - 6.543"
      ]
     },
     "execution_count": 12,
     "metadata": {},
     "output_type": "execute_result"
    }
   ],
   "source": [
    "Fx = sigmaFunction(time,distance)\n",
    "Fx"
   ]
  },
  {
   "cell_type": "code",
   "execution_count": 13,
   "metadata": {},
   "outputs": [
    {
     "data": {
      "image/png": "[encoded data removed]",
      "text/plain": [
       "<Figure size 432x288 with 1 Axes>"
      ]
     },
     "metadata": {
      "needs_background": "light"
     },
     "output_type": "display_data"
    }
   ],
   "source": [
    "plt.plot(time,[Fx.subs('x',i) for i in time ], label=\"Distancia (Polinimio interpolado)\")\n",
    "plt.legend()\n",
    "plt.grid(True)"
   ]
  },
  {
   "cell_type": "code",
   "execution_count": 14,
   "metadata": {},
   "outputs": [
    {
     "name": "stdout",
     "output_type": "stream",
     "text": [
      "El polinio que mejor interpola es de grado  1\n",
      "La varianza expresada es de  sigma = 5563258753454.58\n",
      "Y tiene la forma de:  12.971*x - 6.543\n"
     ]
    },
    {
     "data": {
      "text/latex": [
       "$\\displaystyle 12.971$"
      ],
      "text/plain": [
       "12.9710000000000"
      ]
     },
     "execution_count": 14,
     "metadata": {},
     "output_type": "execute_result"
    }
   ],
   "source": [
    "Fx_drv = pol_int_drv(time,distance)\n",
    "Fx_drv"
   ]
  },
  {
   "cell_type": "code",
   "execution_count": 15,
   "metadata": {},
   "outputs": [
    {
     "data": {
      "image/png": "[encoded data removed]",
      "text/plain": [
       "<Figure size 432x288 with 1 Axes>"
      ]
     },
     "metadata": {
      "needs_background": "light"
     },
     "output_type": "display_data"
    }
   ],
   "source": [
    "plt.plot(time,[Fx_drv.subs('x',i) for i in time ], label=\"Velocidad (Polinimio interpolado)\")\n",
    "plt.legend()\n",
    "plt.grid(True)"
   ]
  },
  {
   "cell_type": "markdown",
   "metadata": {},
   "source": [
    "Segun lo que podemos observar la derivada por polinomio interpolante siempre sera un numero constante para todos los casos\n",
    "\n",
    "**Calcule derivada por diferencia de dos puntos hacia adelante**"
   ]
  },
  {
   "cell_type": "code",
   "execution_count": 16,
   "metadata": {
    "scrolled": true
   },
   "outputs": [
    {
     "data": {
      "text/plain": [
       "0     10.8\n",
       "5     12.2\n",
       "10    12.0\n",
       "15    15.0\n",
       "20    16.0\n",
       "25    14.0\n",
       "30    12.0\n",
       "35    11.2\n",
       "40    10.0\n",
       "45    12.4\n",
       "50    14.0\n",
       "55    15.2\n",
       "60    14.0\n",
       "65    14.0\n",
       "Name: f'(x), dtype: float64"
      ]
     },
     "execution_count": 16,
     "metadata": {},
     "output_type": "execute_result"
    }
   ],
   "source": [
    "speed = drv_ad(distance,5)\n",
    "pd.Series(data=speed, index=['0', '5', '10', '15', '20', '25', '30', '35', '40', '45', '50', '55', '60', '65'], name=\"f\\'(x)\" )"
   ]
  },
  {
   "cell_type": "code",
   "execution_count": 17,
   "metadata": {},
   "outputs": [
    {
     "data": {
      "image/png": "[encoded data removed]",
      "text/plain": [
       "<Figure size 432x288 with 1 Axes>"
      ]
     },
     "metadata": {
      "needs_background": "light"
     },
     "output_type": "display_data"
    }
   ],
   "source": [
    "plt.plot(time,speed, label=\"Velocidad (Diferencia de dos puntos hacia adelante )\")\n",
    "plt.legend()\n",
    "plt.grid(True)"
   ]
  },
  {
   "cell_type": "markdown",
   "metadata": {},
   "source": [
    "**Resultados con la derivada por diferencia de dos puntos centrada**"
   ]
  },
  {
   "cell_type": "code",
   "execution_count": 18,
   "metadata": {
    "scrolled": true
   },
   "outputs": [
    {
     "data": {
      "text/plain": [
       "0     10.8\n",
       "5     11.5\n",
       "10    12.1\n",
       "15    13.5\n",
       "20    15.5\n",
       "25    15.0\n",
       "30    13.0\n",
       "35    11.6\n",
       "40    10.6\n",
       "45    11.2\n",
       "50    13.2\n",
       "55    14.6\n",
       "60    14.6\n",
       "65    14.0\n",
       "Name: f'(x), dtype: float64"
      ]
     },
     "execution_count": 18,
     "metadata": {},
     "output_type": "execute_result"
    }
   ],
   "source": [
    "speed = drv_c(distance,5)\n",
    "pd.Series(data=speed, index=['0', '5', '10', '15', '20', '25', '30', '35', '40', '45', '50', '55', '60', '65'], name=\"f\\'(x)\" )"
   ]
  },
  {
   "cell_type": "code",
   "execution_count": 19,
   "metadata": {},
   "outputs": [
    {
     "data": {
      "image/png": "[encoded data removed]",
      "text/plain": [
       "<Figure size 432x288 with 1 Axes>"
      ]
     },
     "metadata": {
      "needs_background": "light"
     },
     "output_type": "display_data"
    }
   ],
   "source": [
    "plt.plot(time,speed, label=\"Velocidad (Diferencia de dos puntos centrada)\")\n",
    "plt.legend()\n",
    "plt.grid(True)"
   ]
  },
  {
   "cell_type": "markdown",
   "metadata": {},
   "source": [
    "**Resultandos con la derivada por diferencia de tres puntos hacia adelante**"
   ]
  },
  {
   "cell_type": "code",
   "execution_count": 20,
   "metadata": {},
   "outputs": [
    {
     "data": {
      "text/plain": [
       "0     10.1\n",
       "5     12.3\n",
       "10    10.5\n",
       "15    14.5\n",
       "20    17.0\n",
       "25    15.0\n",
       "30    12.4\n",
       "35    11.8\n",
       "40     8.8\n",
       "45    11.6\n",
       "50    13.4\n",
       "55    15.8\n",
       "60    14.6\n",
       "65    13.4\n",
       "Name: f'(x), dtype: float64"
      ]
     },
     "execution_count": 20,
     "metadata": {},
     "output_type": "execute_result"
    }
   ],
   "source": [
    "speed = drv_ad3(distance,5)\n",
    "pd.Series(data=speed, index=['0', '5', '10', '15', '20', '25', '30', '35', '40', '45', '50', '55', '60', '65'], name=\"f\\'(x)\" )"
   ]
  },
  {
   "cell_type": "code",
   "execution_count": 21,
   "metadata": {},
   "outputs": [
    {
     "data": {
      "image/png": "[encoded data removed]",
      "text/plain": [
       "<Figure size 432x288 with 1 Axes>"
      ]
     },
     "metadata": {
      "needs_background": "light"
     },
     "output_type": "display_data"
    }
   ],
   "source": [
    "plt.plot(time,speed, label=\"Velocidad (Derivada por diferencia de tres puntos hacia adelante)\")\n",
    "plt.legend()\n",
    "plt.grid(True)"
   ]
  },
  {
   "cell_type": "markdown",
   "metadata": {},
   "source": [
    "Como podemos ver los valores son cercanos, considerando que h = 5 es un paso bastante grade dentro de los datos tomados\n",
    "\n",
    "### Calculado la acelaración (segunda derivada)\n",
    "\n",
    "Por diferencia de dos puntos podemos usar la misma funcion para derivar los datos obtenidos"
   ]
  },
  {
   "cell_type": "code",
   "execution_count": 22,
   "metadata": {},
   "outputs": [
    {
     "data": {
      "text/plain": [
       "0     0.44\n",
       "5    -0.36\n",
       "10    0.80\n",
       "15    0.50\n",
       "20   -0.40\n",
       "25   -0.52\n",
       "30   -0.12\n",
       "35   -0.60\n",
       "40    0.56\n",
       "45    0.36\n",
       "50    0.48\n",
       "55   -0.24\n",
       "60   -0.24\n",
       "65   -0.24\n",
       "Name: f''(x), dtype: float64"
      ]
     },
     "execution_count": 22,
     "metadata": {},
     "output_type": "execute_result"
    }
   ],
   "source": [
    "acceleration = drv_ad(speed,5)\n",
    "pd.Series(data=acceleration, index=['0', '5', '10', '15', '20', '25', '30', '35', '40', '45', '50', '55', '60', '65'], name=\"f\\'\\'(x)\" )"
   ]
  },
  {
   "cell_type": "code",
   "execution_count": 23,
   "metadata": {},
   "outputs": [
    {
     "data": {
      "image/png": "[encoded data removed]",
      "text/plain": [
       "<Figure size 432x288 with 1 Axes>"
      ]
     },
     "metadata": {
      "needs_background": "light"
     },
     "output_type": "display_data"
    }
   ],
   "source": [
    "plt.plot(time,acceleration, label=\"Velocidad (Segunda derivada por diferencia; dos puntos hacia adelante)\")\n",
    "plt.legend()\n",
    "plt.grid(True)"
   ]
  },
  {
   "cell_type": "markdown",
   "metadata": {},
   "source": [
    "Calculemos la aceleracion por otro metodo, ahora directamente usando \n",
    "**Segunda derivada por diferencia de tres puntos, hacia adelante**"
   ]
  },
  {
   "cell_type": "code",
   "execution_count": 24,
   "metadata": {},
   "outputs": [
    {
     "data": {
      "text/plain": [
       "0     0.28\n",
       "5    -0.04\n",
       "10    0.60\n",
       "15    0.20\n",
       "20   -0.40\n",
       "25   -0.40\n",
       "30   -0.16\n",
       "35   -0.24\n",
       "40    0.48\n",
       "45    0.32\n",
       "50    0.24\n",
       "55   -0.24\n",
       "60   -0.24\n",
       "65   -0.24\n",
       "Name: f''(x), dtype: float64"
      ]
     },
     "execution_count": 24,
     "metadata": {},
     "output_type": "execute_result"
    }
   ],
   "source": [
    "acceleration = drv2_ad(distance,5)\n",
    "pd.Series(data=acceleration, index=['0', '5', '10', '15', '20', '25', '30', '35', '40', '45', '50', '55', '60', '65'], name=\"f\\'\\'(x)\" )"
   ]
  },
  {
   "cell_type": "code",
   "execution_count": 25,
   "metadata": {},
   "outputs": [
    {
     "data": {
      "image/png": "[encoded data removed]",
      "text/plain": [
       "<Figure size 432x288 with 1 Axes>"
      ]
     },
     "metadata": {
      "needs_background": "light"
     },
     "output_type": "display_data"
    }
   ],
   "source": [
    "plt.plot(time,acceleration, label=\"Velocidad (Segunda derivada por diferencia; tres puntos hacia adelante)\")\n",
    "plt.legend()\n",
    "plt.grid(True)"
   ]
  },
  {
   "cell_type": "markdown",
   "metadata": {},
   "source": [
    "# Integración\n",
    "\n",
    "Integrar mediante los siguientes caminos:\n",
    "\n",
    "* Integral por Polinomio interporlante de menor variabilidad (minimos cuadrados)\n",
    "* Integral por regla del trapecio simple\n",
    "* Integral por regla del trapecio compuesto\n",
    "* Integral por regla de Simpson simple\n",
    "* Integral por regla de Simpson compuesta\n",
    "* Integral por metodos de coeficientes indererminados"
   ]
  },
  {
   "cell_type": "markdown",
   "metadata": {},
   "source": [
    "### Obtener integral por el metodo de polinomio interpolante"
   ]
  },
  {
   "cell_type": "code",
   "execution_count": 26,
   "metadata": {},
   "outputs": [],
   "source": [
    "def fx(x):\n",
    "    return 3;\n",
    "\n",
    "def intg_int(x,y):\n",
    "    Px = sigmaFunction(x,y)\n",
    "    Px_intg = sympy.integrate(Px)\n",
    "    return Px_intg"
   ]
  },
  {
   "cell_type": "markdown",
   "metadata": {},
   "source": [
    "### Evaluar una lista de datos en una funcion"
   ]
  },
  {
   "cell_type": "code",
   "execution_count": 27,
   "metadata": {},
   "outputs": [],
   "source": [
    "def eval_pol(Px,data):\n",
    "    vec = []\n",
    "    for i in range(len(data)):\n",
    "        vec.append(sympy.simplify(Px).subs('x',data[i]))\n",
    "    return vec    "
   ]
  },
  {
   "cell_type": "markdown",
   "metadata": {},
   "source": [
    "### Integrar por el metodo del trapecio simple\n",
    "\n",
    "Para una data dada"
   ]
  },
  {
   "cell_type": "code",
   "execution_count": 28,
   "metadata": {},
   "outputs": [
    {
     "data": {
      "text/plain": [
       "9.0"
      ]
     },
     "execution_count": 28,
     "metadata": {},
     "output_type": "execute_result"
    }
   ],
   "source": [
    "def intg_trap_s(a, b, yA, yB):\n",
    "    # a limite inferior de la integral\n",
    "    # b limite superior de la integral\n",
    "    h = (int(b) - int(a))/2\n",
    "    area = (yA+yB) * h\n",
    "    return area\n",
    "\n",
    "intg_trap_s(0,3,3,3)"
   ]
  },
  {
   "cell_type": "code",
   "execution_count": 29,
   "metadata": {},
   "outputs": [],
   "source": [
    "def intg_trap_s_f(f, a, b):\n",
    "    # a limite inferior de la integral\n",
    "    # b limite superior de la integral\n",
    "    h = (int(b) - int(a))/2\n",
    "    area = (f(a)+f(b)) * h\n",
    "    return area"
   ]
  },
  {
   "cell_type": "markdown",
   "metadata": {},
   "source": [
    "### Integrar por el metodo del trapecio compuesto\n",
    "\n",
    "Para datos discretos"
   ]
  },
  {
   "cell_type": "code",
   "execution_count": 30,
   "metadata": {},
   "outputs": [
    {
     "data": {
      "text/plain": [
       "1.0250000000000001"
      ]
     },
     "execution_count": 30,
     "metadata": {},
     "output_type": "execute_result"
    }
   ],
   "source": [
    "def int_d_trap(data,h):\n",
    "    area = data[0]+data[len(data)-1]\n",
    "    \n",
    "    for i in range (1,len(data)-1):\n",
    "        area += 2 * y[i]\n",
    "    \n",
    "    h = h/2\n",
    "    return h*area\n",
    "\n",
    "y = [1.8,2.6,3.0,2.8,1.9]\n",
    "int_d_trap(y,0.1)"
   ]
  },
  {
   "cell_type": "markdown",
   "metadata": {},
   "source": [
    "Para una funcion dada"
   ]
  },
  {
   "cell_type": "code",
   "execution_count": 31,
   "metadata": {},
   "outputs": [],
   "source": [
    "def intg_f_trap(fx,a,b,n):\n",
    "    # fx funcion a evaluar\n",
    "    # a limite inferior de la integral\n",
    "    # b limite superior de la integral\n",
    "    h = 1.0*(b-a)/n;\n",
    "    sum = 0.0;\n",
    "    for i in range(n):\n",
    "        sum += (fx(a+h*i) + fx(a+h*(i+1)))*h/2;\n",
    "    return sum"
   ]
  },
  {
   "cell_type": "markdown",
   "metadata": {},
   "source": [
    "### Integral por el metodo de Simpson Simple\n",
    "\n",
    "Para una función continua"
   ]
  },
  {
   "cell_type": "code",
   "execution_count": 32,
   "metadata": {},
   "outputs": [],
   "source": [
    "def simpson_s(fx, a,b):\n",
    "    h = (b - a)/6\n",
    "    area=h*(fx(a)+4*fx((a+b)/2)+fx(b))\n",
    "    return area"
   ]
  },
  {
   "cell_type": "markdown",
   "metadata": {},
   "source": [
    "### Integral por el método de Simpson compuesto\n",
    "Para un data"
   ]
  },
  {
   "cell_type": "code",
   "execution_count": 33,
   "metadata": {},
   "outputs": [],
   "source": [
    "def simpson_d_c(data):\n",
    "    h = (data[len(data)-1] - data[0])/3\n",
    "    area = 0\n",
    "    sum = 0\n",
    "    for i in range(1, len(data)-1):\n",
    "        if i%2 == 0:\n",
    "            area = 2 * data[i]\n",
    "        else:\n",
    "            area = 4 * data[i]\n",
    "        sum += area\n",
    "    sum += data[0] + data[len(data)-1]\n",
    "        \n",
    "    return h*sum"
   ]
  },
  {
   "cell_type": "markdown",
   "metadata": {},
   "source": [
    "Para una función"
   ]
  },
  {
   "cell_type": "code",
   "execution_count": 34,
   "metadata": {},
   "outputs": [],
   "source": [
    "def simpson_f_c(f,a,b,n):\n",
    "    h = ( b - a )/n\n",
    "    inter=0\n",
    "    x = a\n",
    "    area = 0\n",
    "    for i in range(1, n):\n",
    "        inter+= 2 * (i%2+1) * f(x+i*h)\n",
    "        \n",
    "    area += h/3*(f(a)+inter+f(b))\n",
    "    return area"
   ]
  },
  {
   "cell_type": "markdown",
   "metadata": {},
   "source": [
    "### Integral por el metodo de la cuadratura gaussiana"
   ]
  },
  {
   "cell_type": "code",
   "execution_count": 35,
   "metadata": {},
   "outputs": [],
   "source": [
    "def cuadra_gausiana(f,a,b):\n",
    "    funcion = sympy.simplify(f)  #convierte la funcion de string a expresion literal\n",
    "    t1 = -((b-a)/float(2))*(1/float(np.sqrt(3))) + ((b+a)/float(2))\n",
    "    t2 = ((b-a)/float(2))* (1/float(np.sqrt(3))) + ((b+a)/float(2))\n",
    "    #evalua t1 en la funcion\n",
    "    t1_evaluado = funcion.evalf(subs = {\"x\" : t1})\n",
    "    print(t1_evaluado)\n",
    "    #evalua t2 en la funcion\n",
    "    t2_evaluado = funcion.evalf(subs = {\"x\" : t2})\n",
    "    print(t2_evaluado)\n",
    "    resul = ((b-a) /float(2))*(t1_evaluado + t2_evaluado)\n",
    "    return resul\n",
    "\n",
    "def f2(x):\n",
    "    return np.cos(x)\n",
    "\n",
    "#cuadra_gausiana(f2,0,3)\n"
   ]
  },
  {
   "cell_type": "markdown",
   "metadata": {},
   "source": [
    "<hr>\n",
    "<hr>\n",
    "<hr>\n",
    "<br>\n",
    "<br>\n",
    "<br>\n",
    "\n",
    "## Supongase el siguiente ejercicio.\n",
    "\n",
    "Teniendo en cuenta el ejercicio anterior integrar la velocidad y obtener la distancia"
   ]
  },
  {
   "cell_type": "code",
   "execution_count": 36,
   "metadata": {},
   "outputs": [
    {
     "data": {
      "text/plain": [
       "0     10.1\n",
       "5     12.3\n",
       "10    10.5\n",
       "15    14.5\n",
       "20    17.0\n",
       "25    15.0\n",
       "30    12.4\n",
       "35    11.8\n",
       "40     8.8\n",
       "45    11.6\n",
       "50    13.4\n",
       "55    15.8\n",
       "60    14.6\n",
       "65    13.4\n",
       "Name: f'(x), dtype: float64"
      ]
     },
     "execution_count": 36,
     "metadata": {},
     "output_type": "execute_result"
    }
   ],
   "source": [
    "pd.Series(data=speed, index=['0', '5', '10', '15', '20', '25', '30', '35', '40', '45', '50', '55', '60', '65'], name=\"f\\'(x)\" )"
   ]
  },
  {
   "cell_type": "markdown",
   "metadata": {},
   "source": [
    "### Calculando la distancia Integrando por polinomio interpolado"
   ]
  },
  {
   "cell_type": "code",
   "execution_count": 37,
   "metadata": {},
   "outputs": [
    {
     "name": "stdout",
     "output_type": "stream",
     "text": [
      "El polinio que mejor interpola es de grado  1\n",
      "La varianza expresada es de  sigma = 1119779366233.96\n",
      "Y tiene la forma de:  0.027*x + 12.057\n"
     ]
    },
    {
     "data": {
      "text/latex": [
       "$\\displaystyle 0.0135 x^{2} + 12.057 x$"
      ],
      "text/plain": [
       "0.0135*x**2 + 12.057*x"
      ]
     },
     "execution_count": 37,
     "metadata": {},
     "output_type": "execute_result"
    }
   ],
   "source": [
    "pol_intg = intg_int(time,speed)\n",
    "pol_intg"
   ]
  },
  {
   "cell_type": "code",
   "execution_count": 38,
   "metadata": {},
   "outputs": [
    {
     "data": {
      "text/plain": [
       "0                    0\n",
       "5     60.6225000000000\n",
       "10    121.920000000000\n",
       "15    183.892500000000\n",
       "20    246.540000000000\n",
       "25    309.862500000000\n",
       "30    373.860000000000\n",
       "35    438.532500000000\n",
       "40    503.880000000000\n",
       "45    569.902500000000\n",
       "50    636.600000000000\n",
       "55    703.972500000000\n",
       "60    772.020000000000\n",
       "65    840.742500000000\n",
       "Name: f\\(x), dtype: object"
      ]
     },
     "execution_count": 38,
     "metadata": {},
     "output_type": "execute_result"
    }
   ],
   "source": [
    "new_distance = eval_pol(pol_intg,time)\n",
    "pd.Series(data=new_distance, index=['0', '5', '10', '15', '20', '25', '30', '35', '40', '45', '50', '55', '60', '65'], name=\"f\\(x)\" )"
   ]
  },
  {
   "cell_type": "markdown",
   "metadata": {},
   "source": [
    "Como podemos observar existe un cierto error asociado pero se observa una correspondencia entre los valores obtenidos y los valores esperados"
   ]
  },
  {
   "cell_type": "markdown",
   "metadata": {},
   "source": [
    "### Ejercicio\n",
    "Dado los siguietes puntos de una funcion $f(x): {(0.1,0.8),(0.2,2.6),(0.3,3.0),(0.4,2.8),(0.5,1.9)} $ \\\n",
    "Calcular la integral resultante"
   ]
  },
  {
   "cell_type": "code",
   "execution_count": 39,
   "metadata": {},
   "outputs": [
    {
     "name": "stdout",
     "output_type": "stream",
     "text": [
      "El polinio que mejor interpola es de grado  1\n",
      "La varianza expresada es de  sigma = 2.08175000015584e-8\n",
      "Y tiene la forma de:  2.4*x + 1.5\n",
      "El polinio que mejor interpola es de grado  1\n",
      "La varianza expresada es de  sigma = 2.08175000015584e-8\n",
      "Y tiene la forma de:  2.4*x + 1.5\n"
     ]
    },
    {
     "data": {
      "text/latex": [
       "$\\displaystyle 2.4 x + 1.5$"
      ],
      "text/plain": [
       "2.4*x + 1.5"
      ]
     },
     "execution_count": 39,
     "metadata": {},
     "output_type": "execute_result"
    }
   ],
   "source": [
    "x = [0.1,0.2,0.3,0.4,0.5]\n",
    "y = [0.8,2.6,3.0,2.8,1.9]\n",
    "\n",
    "pol_intg = intg_int(x,y)\n",
    "pol_intg\n",
    "\n",
    "f = sigmaFunction(x,y)\n",
    "f"
   ]
  },
  {
   "cell_type": "code",
   "execution_count": 40,
   "metadata": {},
   "outputs": [
    {
     "data": {
      "text/plain": [
       "[1.74000000000000,\n",
       " 1.98000000000000,\n",
       " 2.22000000000000,\n",
       " 2.46000000000000,\n",
       " 2.70000000000000]"
      ]
     },
     "execution_count": 40,
     "metadata": {},
     "output_type": "execute_result"
    }
   ],
   "source": [
    "eval_pol(f,x)"
   ]
  },
  {
   "cell_type": "code",
   "execution_count": 41,
   "metadata": {},
   "outputs": [
    {
     "data": {
      "image/png": "[encoded data removed]",
      "text/plain": [
       "<Figure size 432x288 with 1 Axes>"
      ]
     },
     "metadata": {
      "needs_background": "light"
     },
     "output_type": "display_data"
    }
   ],
   "source": [
    "plt.plot([Fx.subs('x',i) for i in x ], label=\"2.4x + 1.5\")\n",
    "plt.legend()\n",
    "plt.grid(True)"
   ]
  },
  {
   "cell_type": "code",
   "execution_count": 42,
   "metadata": {},
   "outputs": [
    {
     "name": "stdout",
     "output_type": "stream",
     "text": [
      "El polinio que mejor interpola es de grado  1\n",
      "La varianza expresada es de  sigma = 2.08175000015584e-8\n",
      "Y tiene la forma de:  2.4*x + 1.5\n"
     ]
    },
    {
     "data": {
      "text/latex": [
       "$\\displaystyle 1.2 x^{2} + 1.5 x$"
      ],
      "text/plain": [
       "1.2*x**2 + 1.5*x"
      ]
     },
     "execution_count": 42,
     "metadata": {},
     "output_type": "execute_result"
    }
   ],
   "source": [
    "f_int = intg_int(x,y)\n",
    "f_int"
   ]
  },
  {
   "cell_type": "code",
   "execution_count": 43,
   "metadata": {},
   "outputs": [
    {
     "data": {
      "image/png": "[encoded data removed]",
      "text/plain": [
       "<Figure size 432x288 with 1 Axes>"
      ]
     },
     "metadata": {
      "needs_background": "light"
     },
     "output_type": "display_data"
    }
   ],
   "source": [
    "plt.plot([f_int.subs('x',i) for i in x ], label=\"1.2x**2+1.5\")\n",
    "plt.legend()\n",
    "plt.grid(True)"
   ]
  },
  {
   "cell_type": "markdown",
   "metadata": {},
   "source": [
    "### Ejercicio\n",
    "\n",
    "La siguiente función no es integrable analíticamente. $$f(x) = \\sqrt {x} \\sin x; 0\\leq x \\leq 2$$\n",
    "Use la formula de los trapecios para obtener una respuesta aproximada de la integral."
   ]
  },
  {
   "cell_type": "code",
   "execution_count": 44,
   "metadata": {},
   "outputs": [
    {
     "data": {
      "text/plain": [
       "1.5225616399674986"
      ]
     },
     "execution_count": 44,
     "metadata": {},
     "output_type": "execute_result"
    }
   ],
   "source": [
    "f = lambda x: np.sqrt(x)*np.sin(x)\n",
    "\n",
    "intg_f_trap(f,0,2,4)\n"
   ]
  },
  {
   "cell_type": "code",
   "execution_count": 45,
   "metadata": {},
   "outputs": [
    {
     "data": {
      "text/plain": [
       "[1.2859407532478362,\n",
       " 1.513442949703151,\n",
       " 1.5265009313522835,\n",
       " 1.5297156801629415,\n",
       " 1.5309526749001752,\n",
       " 1.5315501121142354,\n",
       " 1.5318817227849462,\n",
       " 1.5320839760180025,\n",
       " 1.5322160362539332,\n",
       " 1.5323068349285849]"
      ]
     },
     "execution_count": 45,
     "metadata": {},
     "output_type": "execute_result"
    }
   ],
   "source": [
    "vec = []\n",
    "x = []\n",
    "for i in range(1,20,2):\n",
    "    vec.append(intg_f_trap(f,0,2,i))\n",
    "    x.append(i)\n",
    "vec"
   ]
  },
  {
   "cell_type": "code",
   "execution_count": 46,
   "metadata": {},
   "outputs": [
    {
     "data": {
      "image/png": "[encoded data removed]",
      "text/plain": [
       "<Figure size 432x288 with 1 Axes>"
      ]
     },
     "metadata": {
      "needs_background": "light"
     },
     "output_type": "display_data"
    }
   ],
   "source": [
    "plt.plot(x,vec,c='y', marker='o' ,  mfc='red', label=\"Integral metodo de trapezoides compuestos\")\n",
    "plt.legend()\n",
    "plt.grid(True)"
   ]
  },
  {
   "cell_type": "markdown",
   "metadata": {},
   "source": [
    "### Ejercicio\n",
    "\n",
    "Si $g$ es una función diferenciable en $[a,b]$, la longitud del arco de la curva $g$ en ese intervalo se puede calcular con la intergral $ S = \\displaystyle\\int_{a}^{b} \\sqrt { 1 + g^{'}(x)^2}\\ dx  $, Calcular la longitud de arco de $g(x) = \\sin{x}, x \\in [0,2] $ usando dos parabolas $(m = 4)$\n",
    "\n",
    "### Solucionando\n",
    "\n",
    "Longitud de arco  $ = \\displaystyle\\int_{a}^{b} \\sqrt { 1 + g^{'}(x)^2}\\ dx = \\displaystyle\\int_{0}^{2} \\sqrt { 1 + \\cos{x}^2}\\ dx$\n",
    "\n",
    "Es decir: $f(x) = \\sqrt { 1 + [\\cos{x}]^2}$ "
   ]
  },
  {
   "cell_type": "code",
   "execution_count": 47,
   "metadata": {},
   "outputs": [
    {
     "data": {
      "image/png": "[encoded data removed]",
      "text/plain": [
       "<Figure size 432x288 with 1 Axes>"
      ]
     },
     "metadata": {
      "needs_background": "light"
     },
     "output_type": "display_data"
    }
   ],
   "source": [
    "f = lambda x: np.sqrt(1 + (np.cos(x)**2))\n",
    "x = np.linspace(0,2)\n",
    "\n",
    "plt.plot(f(x),c=\"r\", label=\"$f(x) = \\sqrt { 1 + [\\cos{x}]^2}$\")\n",
    "plt.legend()\n",
    "plt.grid(True)"
   ]
  },
  {
   "cell_type": "code",
   "execution_count": 48,
   "metadata": {},
   "outputs": [
    {
     "data": {
      "text/plain": [
       "2.347954999837473"
      ]
     },
     "execution_count": 48,
     "metadata": {},
     "output_type": "execute_result"
    }
   ],
   "source": [
    "simpson_s(f, 0,2)"
   ]
  },
  {
   "cell_type": "code",
   "execution_count": 52,
   "metadata": {
    "scrolled": true
   },
   "outputs": [
    {
     "data": {
      "text/plain": [
       "2.3504136916156644"
      ]
     },
     "execution_count": 52,
     "metadata": {},
     "output_type": "execute_result"
    }
   ],
   "source": [
    "simpson_f_c(f,0,2,4)"
   ]
  },
  {
   "cell_type": "code",
   "execution_count": 57,
   "metadata": {},
   "outputs": [
    {
     "data": {
      "text/plain": [
       "[1.6648980448891177,\n",
       " 2.347954999837473,\n",
       " 2.142080989740074,\n",
       " 2.3504136916156644,\n",
       " 2.2171220307819732,\n",
       " 2.3515361384227584,\n",
       " 2.253396208166459,\n",
       " 2.351646207253357,\n",
       " 2.274371302811514,\n",
       " 2.351671546706058,\n",
       " 2.2879866397302493,\n",
       " 2.3516805638227076,\n",
       " 2.297530525734928,\n",
       " 2.351684389015975,\n",
       " 2.304589668756869,\n",
       " 2.3516862293406477,\n",
       " 2.31002190269385,\n",
       " 2.3516872030064935,\n",
       " 2.3143312206592905]"
      ]
     },
     "execution_count": 57,
     "metadata": {},
     "output_type": "execute_result"
    }
   ],
   "source": [
    "vec = []\n",
    "x = []\n",
    "for i in range(1,20):\n",
    "    vec.append(simpson_f_c(f,0,2,i))\n",
    "    x.append(i)\n",
    "vec"
   ]
  },
  {
   "cell_type": "code",
   "execution_count": 54,
   "metadata": {},
   "outputs": [
    {
     "data": {
      "image/png": "[encoded data removed]",
      "text/plain": [
       "<Figure size 432x288 with 1 Axes>"
      ]
     },
     "metadata": {
      "needs_background": "light"
     },
     "output_type": "display_data"
    }
   ],
   "source": [
    "plt.plot(x,vec,c='y', marker='o' ,  mfc='red', label=\"Integral metodo de Simpson compuesto\")\n",
    "plt.legend()\n",
    "plt.grid(True)"
   ]
  }
 ],
 "metadata": {
  "kernelspec": {
   "display_name": "Python 3",
   "language": "python",
   "name": "python3"
  },
  "language_info": {
   "codemirror_mode": {
    "name": "ipython",
    "version": 3
   },
   "file_extension": ".py",
   "mimetype": "text/x-python",
   "name": "python",
   "nbconvert_exporter": "python",
   "pygments_lexer": "ipython3",
   "version": "3.7.3"
  }
 },
 "nbformat": 4,
 "nbformat_minor": 2
}
